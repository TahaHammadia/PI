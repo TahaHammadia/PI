{
 "cells": [
  {
   "cell_type": "markdown",
   "metadata": {},
   "source": [
    "# Task 12 :"
   ]
  },
  {
   "cell_type": "code",
   "execution_count": 5,
   "metadata": {},
   "outputs": [],
   "source": [
    "import numpy as np\n",
    "\n",
    "from pulp import LpMaximize, LpProblem, LpStatus, lpSum, LpVariable\n",
    "\n",
    "def optimize(w, n, Ws):\n",
    "    \"\"\"\n",
    "    w is the list of costs of the different groups.\n",
    "    n is the number of candidate students from each group.\n",
    "    Ws is the budget of the school.\n",
    "    \"\"\"\n",
    "    G = len(n)\n",
    "    N = sum(n) # total number of all students\n",
    "    p = np.array([n[i] / N for i in range(G)])\n",
    "    model = LpProblem(name=\"Task_5.1\", sense=LpMaximize)\n",
    "    groups = np.array([[LpVariable(name=\"x\" + str(i), lowBound=0, cat=\"Integer\")] for i in range(G)]) # variables\n",
    "    model += lpSum(groups) # objective function\n",
    "\n",
    "    # #Constraints\n",
    "    # Cost constraint\n",
    "    cost = []\n",
    "    for i in range(G):\n",
    "        cost.append(w[i,0] * groups[i, 0])\n",
    "    model += lpSum(cost) <= Ws\n",
    "\n",
    "    # Number constraint\n",
    "    for i in range(G):\n",
    "        model += 1 * groups[i,0] <= n[i,0]\n",
    "\n",
    "    #4/5- rule\n",
    "    A1 = np.array([[6 / 5 * p[i, 0]] * G for i in range(G)])\n",
    "    A2 = np.array([[-4 / 5 * p[i, 0]] * G for i in range(G)])\n",
    "    for i in range(G):\n",
    "        A1[i, i] -= 1\n",
    "        A2[i, i] += 1\n",
    "\n",
    "    set1 = A1.dot(groups)\n",
    "    set2 = A2.dot(groups)\n",
    "\n",
    "    for i in range(G):\n",
    "        model += set1[i, 0] >= 0\n",
    "        model += set2[i, 0] >= 0\n",
    "\n",
    "    # Solution\n",
    "    status = model.solve()\n",
    "\n",
    "    for var in model.variables():\n",
    "        print(f\"{var.name}: {var.value()}\")"
   ]
  },
  {
   "cell_type": "code",
   "execution_count": 2,
   "metadata": {},
   "outputs": [
    {
     "name": "stdout",
     "output_type": "stream",
     "text": [
      "x0: 0.0\n",
      "x1: 0.0\n"
     ]
    }
   ],
   "source": [
    "w = np.array([[1], [10]]) # set of cost for each group\n",
    "\n",
    "n = np.array([[3], [1]]) # number of students per group\n",
    "Ws = 11                      # The budget for school s\n",
    "optimize(w, n, Ws)"
   ]
  },
  {
   "cell_type": "markdown",
   "metadata": {},
   "source": [
    "Under budget constrains and the 4/5-rule constraint the school s couldn't take any student."
   ]
  },
  {
   "cell_type": "markdown",
   "metadata": {},
   "source": [
    "## instance 2"
   ]
  },
  {
   "cell_type": "code",
   "execution_count": 3,
   "metadata": {},
   "outputs": [
    {
     "name": "stdout",
     "output_type": "stream",
     "text": [
      "case n =  22\n",
      " the number of students for each group is: \n",
      "x0: 19.0\n",
      "x1: 2.0\n",
      "case n =  23\n",
      " the number of students for each group is: \n",
      "x0: 20.0\n",
      "x1: 2.0\n",
      "case n =  24\n",
      " the number of students for each group is: \n",
      "x0: 21.0\n",
      "x1: 2.0\n",
      "case n =  25\n",
      " the number of students for each group is: \n",
      "x0: 22.0\n",
      "x1: 2.0\n",
      "case n =  26\n",
      " the number of students for each group is: \n",
      "x0: 23.0\n",
      "x1: 2.0\n",
      "case n =  27\n",
      " the number of students for each group is: \n",
      "x0: 24.0\n",
      "x1: 2.0\n",
      "case n =  28\n",
      " the number of students for each group is: \n",
      "x0: 25.0\n",
      "x1: 2.0\n",
      "case n =  29\n",
      " the number of students for each group is: \n",
      "x0: 26.0\n",
      "x1: 2.0\n",
      "case n =  30\n",
      " the number of students for each group is: \n",
      "x0: 27.0\n",
      "x1: 3.0\n",
      "case n =  31\n",
      " the number of students for each group is: \n",
      "x0: 27.0\n",
      "x1: 3.0\n",
      "case n =  32\n",
      " the number of students for each group is: \n",
      "x0: 28.0\n",
      "x1: 3.0\n",
      "case n =  33\n",
      " the number of students for each group is: \n",
      "x0: 29.0\n",
      "x1: 3.0\n",
      "case n =  34\n",
      " the number of students for each group is: \n",
      "x0: 30.0\n",
      "x1: 3.0\n"
     ]
    }
   ],
   "source": [
    "def instance2_5(n, p,w):\n",
    "    \n",
    "    G = len(p)\n",
    "    n_studs = np.array([[int(n*p[i])] for i in range(G)])\n",
    "    \n",
    "    Ws = 3*n\n",
    "    \n",
    "    optimize(w, n_studs,Ws )\n",
    "    \n",
    "    \n",
    "p = [0.9, 0.1]\n",
    "w = np.array([[1], [10]])\n",
    "for k in range(22,35):\n",
    "    print(\"case n = \", k)\n",
    "    print(\" the number of students for each group is: \")\n",
    "    instance2_5(k, p, w)"
   ]
  },
  {
   "cell_type": "markdown",
   "metadata": {},
   "source": [
    "## Instance 3"
   ]
  },
  {
   "cell_type": "code",
   "execution_count": 4,
   "metadata": {},
   "outputs": [
    {
     "name": "stdout",
     "output_type": "stream",
     "text": [
      "case n =  22\n",
      " the number of students for each group is: \n",
      "x0: 11.0\n",
      "x1: 5.0\n",
      "x2: 3.0\n",
      "x3: 1.0\n",
      "case n =  23\n",
      " the number of students for each group is: \n",
      "x0: 11.0\n",
      "x1: 6.0\n",
      "x2: 3.0\n",
      "x3: 1.0\n",
      "case n =  24\n",
      " the number of students for each group is: \n",
      "x0: 12.0\n",
      "x1: 6.0\n",
      "x2: 3.0\n",
      "x3: 1.0\n",
      "case n =  25\n",
      " the number of students for each group is: \n",
      "x0: 12.0\n",
      "x1: 7.0\n",
      "x2: 3.0\n",
      "x3: 1.0\n",
      "case n =  26\n",
      " the number of students for each group is: \n",
      "x0: 13.0\n",
      "x1: 7.0\n",
      "x2: 3.0\n",
      "x3: 1.0\n",
      "case n =  27\n",
      " the number of students for each group is: \n",
      "x0: 13.0\n",
      "x1: 7.0\n",
      "x2: 3.0\n",
      "x3: 1.0\n",
      "case n =  28\n",
      " the number of students for each group is: \n",
      "x0: 14.0\n",
      "x1: 7.0\n",
      "x2: 4.0\n",
      "x3: 1.0\n",
      "case n =  29\n",
      " the number of students for each group is: \n",
      "x0: 13.0\n",
      "x1: 8.0\n",
      "x2: 4.0\n",
      "x3: 1.0\n",
      "case n =  30\n",
      " the number of students for each group is: \n",
      "x0: 15.0\n",
      "x1: 8.0\n",
      "x2: 4.0\n",
      "x3: 1.0\n",
      "case n =  31\n",
      " the number of students for each group is: \n",
      "x0: 14.0\n",
      "x1: 9.0\n",
      "x2: 4.0\n",
      "x3: 1.0\n",
      "case n =  32\n",
      " the number of students for each group is: \n",
      "x0: 16.0\n",
      "x1: 9.0\n",
      "x2: 4.0\n",
      "x3: 1.0\n",
      "case n =  33\n",
      " the number of students for each group is: \n",
      "x0: 16.0\n",
      "x1: 9.0\n",
      "x2: 4.0\n",
      "x3: 1.0\n",
      "case n =  34\n",
      " the number of students for each group is: \n",
      "x0: 17.0\n",
      "x1: 10.0\n",
      "x2: 4.0\n",
      "x3: 1.0\n"
     ]
    }
   ],
   "source": [
    "def instance3_5(n, p,w):\n",
    "    \n",
    "    G = len(p)\n",
    "    n_studs = np.array([[int(n*p[i])] for i in range(G)])\n",
    "    \n",
    "    Ws = 3*n\n",
    "    \n",
    "    optimize(w, n_studs,Ws )\n",
    "    \n",
    "    \n",
    "p = [0.5,0.3,0.15,0.05]\n",
    "\n",
    "w = np.array([[1], [5], [6], [10]])\n",
    "\n",
    "for k in range(22,35):\n",
    "    print(\"case n = \", k)\n",
    "    print(\" the number of students for each group is: \")\n",
    "    instance3_5(k, p, w)"
   ]
  },
  {
   "cell_type": "code",
   "execution_count": null,
   "metadata": {},
   "outputs": [],
   "source": []
  }
 ],
 "metadata": {
  "kernelspec": {
   "display_name": "Python 3",
   "language": "python",
   "name": "python3"
  },
  "language_info": {
   "codemirror_mode": {
    "name": "ipython",
    "version": 3
   },
   "file_extension": ".py",
   "mimetype": "text/x-python",
   "name": "python",
   "nbconvert_exporter": "python",
   "pygments_lexer": "ipython3",
   "version": "3.8.5"
  },
  "latex_envs": {
   "LaTeX_envs_menu_present": true,
   "autoclose": false,
   "autocomplete": true,
   "bibliofile": "biblio.bib",
   "cite_by": "apalike",
   "current_citInitial": 1,
   "eqLabelWithNumbers": true,
   "eqNumInitial": 1,
   "hotkeys": {
    "equation": "Ctrl-E",
    "itemize": "Ctrl-I"
   },
   "labels_anchors": false,
   "latex_user_defs": false,
   "report_style_numbering": false,
   "user_envs_cfg": false
  }
 },
 "nbformat": 4,
 "nbformat_minor": 5
}
