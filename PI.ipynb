{
 "cells": [
  {
   "cell_type": "markdown",
   "metadata": {},
   "source": [
    "# INF421 PI 2021: Matching under constraints"
   ]
  },
  {
   "cell_type": "markdown",
   "metadata": {},
   "source": [
    "By : Taha Hammadia & Styve Ngamou"
   ]
  },
  {
   "cell_type": "markdown",
   "metadata": {},
   "source": [
    "For : M. Patrick Loiseau"
   ]
  },
  {
   "cell_type": "markdown",
   "metadata": {},
   "source": [
    "## Disclaimer:\n",
    "\n",
    "In this assessment, we may use terms that are not politicaly correct. By it, we mean no political statement and we are only discussing programing aspects."
   ]
  },
  {
   "cell_type": "markdown",
   "metadata": {},
   "source": [
    "## Task 1:\n",
    "\n",
    "### Feasibility:\n",
    "\n",
    "The definition of stability is the same for both problems.\n",
    "\n",
    "### Fairness:\n",
    "\n",
    "The definition of fairness is the same for both problems.\n",
    "\n",
    "$ $\n",
    "\n",
    "Since the two definitions coincide, it is sufficient to show that the Gale and Shapley definition of stability implies non-wastefulness and individual rationality:\n",
    "\n",
    "### Non-wastefulness:\n",
    "\n",
    "Let $\\mu$ a matching. Suppose there is $(i, s) \\in I \\times S$ such that $s_{i} \\gt _{i} \\mu_{i}$ and $|\\mu_{s}| < q_{s}$.\n",
    "\n",
    "We have: $i >_{s} \\emptyset$, therefore $\\mu$ is unstable.\n",
    "\n",
    "### Individual rationality:\n",
    "\n",
    "???"
   ]
  },
  {
   "cell_type": "markdown",
   "metadata": {},
   "source": [
    "## Task 2:"
   ]
  },
  {
   "cell_type": "markdown",
   "metadata": {},
   "source": [
    "### Discussing the implementation:\n",
    "\n",
    "Here, we simply implement the algoithm of Gale and Shapley adapted to many-to-matching problem where the ending condition must be ajusted."
   ]
  },
  {
   "cell_type": "markdown",
   "metadata": {},
   "source": [
    "### Choice of data structure:\n",
    "\n",
    "We have opted to use class structures which helped us combine data over students and schools in an efficient way.\n",
    "\n",
    "In the ```student``` class, the list prefStud helped us to have the rank of each school for the student. This choice of data structure makes the access to the ranking easier. \n",
    "\n",
    "In the ```school``` class, the list prefer containts the students ordered acording to the preference of the school. This choice of data structure makes the execution of the Gale and Shapley algorithm easier. Indeed, we only have to take the students by order of prefer.\n",
    "\n",
    "In the main function ```mate```, the result is presented into the shape of a list of lists. Each list within the great list contains the students who has integrated the corresponding school. The last list corresponds to students who do not have a school."
   ]
  },
  {
   "cell_type": "code",
   "execution_count": 2,
   "metadata": {},
   "outputs": [],
   "source": [
    "class student2:\n",
    "    \"\"\"Definition of the class student\"\"\"\n",
    "    \n",
    "    def __init__(self, prefStud):\n",
    "        \"\"\"\n",
    "        prefStud is a list that associates to each school its rank for the student.\n",
    "        A case is added for including the choice of not joining any school at all.\n",
    "        \"\"\"\n",
    "        self.prefStud = prefStud\n",
    "        self.schlStud = len(prefStud) - 1\n",
    "    \n",
    "class school2:\n",
    "    \"\"\"Definition of the school class\"\"\"\n",
    "    idx = 0\n",
    "    n = 0\n",
    "    def __init__(self, prefer, quota):\n",
    "        \"\"\"\n",
    "        prefer contains the students ordered according to the preference of the school.\n",
    "        \"\"\"\n",
    "        self.prefer = prefer\n",
    "        self.quota = quota"
   ]
  },
  {
   "cell_type": "code",
   "execution_count": 3,
   "metadata": {},
   "outputs": [],
   "source": [
    "def mate2(schools, students):\n",
    "    N = len(students)\n",
    "    m = len(schools)\n",
    "    i = -1\n",
    "     # since the algorithm goes through the preferences of the schools in decreasing order of\n",
    "     # preference, we have a stable matching when all quotas are met.\n",
    "    while True:\n",
    "        for j in range(m):\n",
    "            if schools[j].n < schools[j].quota and schools[i].idx < N:\n",
    "                i = j\n",
    "                break\n",
    "        else:\n",
    "            break\n",
    "        while schools[i].n < schools[i].quota and schools[i].idx < N:\n",
    "            stud = schools[i].prefer[schools[i].idx]\n",
    "            if stud.prefStud[i] < stud.prefStud[stud.schlStud]:\n",
    "                if stud.schlStud < m:\n",
    "                    schools[stud.schlStud].n -= 1\n",
    "                schools[i].n += 1\n",
    "                stud.schlStud = i\n",
    "            schools[i].idx += 1\n",
    "    res = [list() for k in range(m + 1)]\n",
    "    for k in range(N):\n",
    "        res[students[k].schlStud].append(k)\n",
    "    return res"
   ]
  },
  {
   "cell_type": "markdown",
   "metadata": {},
   "source": [
    "### Complexity:\n",
    "\n",
    "#### Complexity in time:\n",
    "\n",
    "We count complexity in terms of how many times a \"school asks a student\".\n",
    "\n",
    "In the algorithm, each student is asked by a school at most once, therefore the complexity is $O(N m)$, where $N$ is the number of students and $m$ the number of schools.\n",
    "\n",
    "#### Complexity in memory:\n",
    "\n",
    "For each one of the $N$ student, a list of $\\Theta(m)$ number represent the ranking of schools. For each one of the $m$ schools, a list of $N$ pointers to elements of the class ```student```.\n",
    "\n",
    "At the end, the space complexity is $\\Theta(N m)$."
   ]
  },
  {
   "cell_type": "markdown",
   "metadata": {},
   "source": [
    "## Task 3:"
   ]
  },
  {
   "cell_type": "markdown",
   "metadata": {},
   "source": [
    "### Discussing the implementation:\n",
    "\n",
    "As before, we are adapting the Gale and Shapley algorithm to our problem. The ending condition is not changed; whereas a school cannot ask a person only if the number of waiting students of their group is strictly less than the quota of the group."
   ]
  },
  {
   "cell_type": "markdown",
   "metadata": {},
   "source": [
    "### Choice of data structure:\n",
    "\n",
    "We use the same structures as before. Moreover, in order to account for group, we add an attribute group in the ```student``` class and a list in the ```school``` class that correponds to the number of people of each group."
   ]
  },
  {
   "cell_type": "code",
   "execution_count": 4,
   "metadata": {},
   "outputs": [],
   "source": [
    "class student3:\n",
    "    \"\"\"Definition of the class student\"\"\"\n",
    "    \n",
    "    def __init__(self, prefStud, grp):\n",
    "        \"\"\"\n",
    "        prefStud is a list that associates to each school its rank for the student.\n",
    "        A case is added for including the choice of not joining any school at all.\n",
    "        \"\"\"\n",
    "        self.prefStud = prefStud\n",
    "        self.schlStud = len(prefStud) - 1\n",
    "        self.grp = grp\n",
    "    \n",
    "class school3:\n",
    "    \"\"\"Definition of the school class\"\"\"\n",
    "    idx = 0\n",
    "    n = 0\n",
    "    def __init__(self, prefer, quota, quota_grp):\n",
    "        \"\"\"\n",
    "        prefer contains the students ordered according to the preference of the school.\n",
    "        \"\"\"\n",
    "        self.prefer = prefer\n",
    "        self.quota = quota\n",
    "        self.quota_grp = quota_grp\n",
    "        self.n_grp = [0] * len(quota_grp)"
   ]
  },
  {
   "cell_type": "code",
   "execution_count": 5,
   "metadata": {},
   "outputs": [],
   "source": [
    "def mate3(schools, students):\n",
    "    N = len(students)\n",
    "    m = len(schools)\n",
    "    i = -1\n",
    "     # since the algorithm goes through the preferences of the schools in decreasing order of\n",
    "     # preference, we have a stable matching when all quotas are met.\n",
    "    while True:  # stop condition unmodified\n",
    "        for j in range(m):\n",
    "            if schools[j].n < schools[j].quota and schools[i].idx < N:\n",
    "                i = j\n",
    "                break\n",
    "        else:\n",
    "            break\n",
    "        while schools[i].n < schools[i].quota and schools[i].idx < N:\n",
    "            stud = schools[i].prefer[schools[i].idx]\n",
    "            if schools[i].n_grp[stud.grp] < schools[i].quota_grp[stud.grp]:\n",
    "                if stud.prefStud[i] < stud.prefStud[stud.schlStud]:\n",
    "                    if stud.schlStud < m:\n",
    "                        schools[stud.schlStud].n -= 1\n",
    "                        schools[i].n_grp[stud.grp] -= 1\n",
    "                    schools[i].n += 1\n",
    "                    stud.schlStud = i\n",
    "            schools[i].idx += 1\n",
    "    res = [list() for k in range(m + 1)]\n",
    "    for k in range(N):\n",
    "        res[students[k].schlStud].append(k)\n",
    "    return res"
   ]
  },
  {
   "cell_type": "markdown",
   "metadata": {},
   "source": [
    "## Task 4:"
   ]
  },
  {
   "cell_type": "code",
   "execution_count": 6,
   "metadata": {},
   "outputs": [],
   "source": [
    "import matplotlib.pyplot as plt"
   ]
  },
  {
   "cell_type": "code",
   "execution_count": 7,
   "metadata": {},
   "outputs": [],
   "source": [
    "def transf(match):\n",
    "    res = [], []\n",
    "    for i in range(len(match) - 1):\n",
    "        for stud in match[i]:\n",
    "            res[0].append(stud)\n",
    "            res[1].append(i)\n",
    "    return res\n",
    "\n",
    "def represent(match, col):\n",
    "    res = transf(match)\n",
    "    plt.scatter(res[0], res[1], c = col)\n",
    "    plt.title(\"Matching of students to schools\")\n",
    "    plt.xlabel(\"Student\")\n",
    "    plt.ylabel(\"School\")\n",
    "    plt.show()\n",
    "    plt.close()"
   ]
  },
  {
   "cell_type": "markdown",
   "metadata": {},
   "source": [
    "### Test Instance 1:"
   ]
  },
  {
   "cell_type": "markdown",
   "metadata": {},
   "source": [
    "#### Test Task 2:"
   ]
  },
  {
   "cell_type": "code",
   "execution_count": 8,
   "metadata": {},
   "outputs": [],
   "source": [
    "stud1 = student2([1, 2, 3])\n",
    "stud2 = student2([2, 1, 3])\n",
    "stud3 = student2([1, 3, 2])\n",
    "stud4 = student2([3, 1, 2])"
   ]
  },
  {
   "cell_type": "code",
   "execution_count": 9,
   "metadata": {},
   "outputs": [],
   "source": [
    "s1 = school2([stud4, stud3, stud2, stud1], 2)\n",
    "s2 = school2([stud4, stud3, stud2, stud1], 2)"
   ]
  },
  {
   "cell_type": "code",
   "execution_count": 10,
   "metadata": {},
   "outputs": [
    {
     "data": {
      "image/png": "[encoded data removed]",
      "text/plain": [
       "<Figure size 432x288 with 1 Axes>"
      ]
     },
     "metadata": {
      "needs_background": "light"
     },
     "output_type": "display_data"
    }
   ],
   "source": [
    "represent(mate2([s1, s2], [stud1, stud2, stud3, stud4]), ['r', 'b', 'g', 'y'])"
   ]
  },
  {
   "cell_type": "markdown",
   "metadata": {},
   "source": [
    "#### Test Task 3:"
   ]
  },
  {
   "cell_type": "code",
   "execution_count": 11,
   "metadata": {},
   "outputs": [],
   "source": [
    "stud1 = student3([1, 2, 3], 0)\n",
    "stud2 = student3([2, 1, 3], 0)\n",
    "stud3 = student3([1, 3, 2], 0)\n",
    "stud4 = student3([3, 1, 2], 1)"
   ]
  },
  {
   "cell_type": "code",
   "execution_count": 12,
   "metadata": {},
   "outputs": [],
   "source": [
    "s1 = school3([stud4, stud3, stud2, stud1], 2, [2, 2])\n",
    "s2 = school3([stud4, stud3, stud2, stud1], 2, [2, 2])"
   ]
  },
  {
   "cell_type": "code",
   "execution_count": 13,
   "metadata": {},
   "outputs": [
    {
     "data": {
      "image/png": "[encoded data removed]",
      "text/plain": [
       "<Figure size 432x288 with 1 Axes>"
      ]
     },
     "metadata": {
      "needs_background": "light"
     },
     "output_type": "display_data"
    }
   ],
   "source": [
    "represent(mate3([s1, s2], [stud1, stud2, stud3, stud4]), ['r', 'b', 'g', 'y'])"
   ]
  },
  {
   "cell_type": "markdown",
   "metadata": {},
   "source": [
    "### Test instance 2:"
   ]
  },
  {
   "cell_type": "code",
   "execution_count": 14,
   "metadata": {},
   "outputs": [],
   "source": [
    "from random import gauss, random\n",
    "from math import sqrt"
   ]
  },
  {
   "cell_type": "code",
   "execution_count": 15,
   "metadata": {},
   "outputs": [],
   "source": [
    "def app(studs, grp):\n",
    "    s = random()\n",
    "    if s >= 0.5 : choice = [1, 2]\n",
    "    else: choice = [2, 1]\n",
    "    studs.append(student3(choice, grp))\n",
    "\n",
    "def rand_instance2(n):\n",
    "    \"\"\"\n",
    "    mate2 works with arguments of the classes school3 and student3.\n",
    "    \"\"\" \n",
    "    studs = []\n",
    "    ranQty = []\n",
    "    m = int(9 * n / 10)\n",
    "    for k in range(m + 1):\n",
    "        app(studs, 0)\n",
    "        ranQty.append((k, gauss(0, 1)))\n",
    "    for k in range(m + 1, n):\n",
    "        app(studs, 1)\n",
    "        ranQty.append((k, gauss(0, 1)))\n",
    "    ranQty1 = [(k, ranQty[k][1] + gauss(0, 1)) for k in range(n)]\n",
    "    ranQty2 = [(k, ranQty[k][1] + gauss(0, 1)) for k in range(n)]\n",
    "    \n",
    "    ranQty1.sort(key = lambda x : -x[1]) # decreasing order of observed quality\n",
    "    ranQty2.sort(key = lambda x : -x[1])\n",
    "    \n",
    "    s1 = school3([studs[elt[0]] for elt in ranQty1], n // 4, [int(0.9 * n / 4), int(0.9 * n / 4)])\n",
    "    s2 = school3([studs[elt[0]] for elt in ranQty2], n // 4, [int(0.9 * n / 4), int(0.9 * n / 4)])\n",
    "    \n",
    "    return [s1, s2], studs\n",
    "\n",
    "def analyse2_2(n, rand_inst):\n",
    "    res = mate2(rand_inst[0], rand_inst[1])\n",
    "    cptA, cptB = 0, 0\n",
    "    for s in [0, 1]:\n",
    "        for elt in res[s]:\n",
    "            if rand_inst[1][elt].prefStud[s] == 1:\n",
    "                if rand_inst[1][elt].grp == 0: cptA += 1\n",
    "                else: cptB += 1\n",
    "    return n, cptA, cptB\n",
    "\n",
    "\n",
    "def analyse2_3(n, rand_inst):\n",
    "    res = mate3(rand_inst[0], rand_inst[1])\n",
    "    cptA, cptB = 0, 0\n",
    "    for s in [0, 1]:\n",
    "        for elt in res[s]:\n",
    "            if rand_inst[1][elt].prefStud[s] == 1:\n",
    "                if rand_inst[1][elt].grp == 0: cptA += 1\n",
    "                else: cptB += 1\n",
    "    return n, cptA, cptB"
   ]
  },
  {
   "cell_type": "markdown",
   "metadata": {},
   "source": [
    "#### Test Task 2:"
   ]
  },
  {
   "cell_type": "code",
   "execution_count": 16,
   "metadata": {
    "scrolled": true
   },
   "outputs": [],
   "source": [
    "def printAnalyse2_2(n):\n",
    "    m = int(9 * n / 10)\n",
    "    N = 200\n",
    "\n",
    "    cpta, cptb = 0, 0\n",
    "\n",
    "    for _ in range(N):\n",
    "        rand_inst = rand_instance2(n)\n",
    "        n, cptA, cptB = analyse2_2(n, rand_inst)\n",
    "        cpta += cptA\n",
    "        cptb += cptB\n",
    "    print(n, \":\")\n",
    "    print(\"Average of cptA:\", cpta / N)\n",
    "    print(\"Percentage of A's to get their first choice:\", int(cpta / m / N * 10000) / 100, \"%\")\n",
    "    print(\"Average of cptB : \", cptb / N)\n",
    "    print(\"Percentage of B's to get their first choice:\", int(cptb / (n - m) / N * 10000) / 100, \"%\")\n",
    "    print(\"_______\")"
   ]
  },
  {
   "cell_type": "code",
   "execution_count": 17,
   "metadata": {},
   "outputs": [
    {
     "name": "stdout",
     "output_type": "stream",
     "text": [
      "1000 :\n",
      "Average of cptA: 674.97\n",
      "Percentage of A's to get their first choice: 74.99 %\n",
      "Average of cptB :  74.17\n",
      "Percentage of B's to get their first choice: 74.17 %\n",
      "_______\n",
      "2000 :\n",
      "Average of cptA: 1349.19\n",
      "Percentage of A's to get their first choice: 74.95 %\n",
      "Average of cptB :  149.8\n",
      "Percentage of B's to get their first choice: 74.9 %\n",
      "_______\n",
      "3000 :\n",
      "Average of cptA: 2027.595\n",
      "Percentage of A's to get their first choice: 75.09 %\n",
      "Average of cptB :  224.295\n",
      "Percentage of B's to get their first choice: 74.76 %\n",
      "_______\n"
     ]
    }
   ],
   "source": [
    "printAnalyse2_2(1000)\n",
    "printAnalyse2_2(2000)\n",
    "printAnalyse2_2(3000)"
   ]
  },
  {
   "cell_type": "markdown",
   "metadata": {},
   "source": [
    "The fraction of people getting their first choices seems independent from the number n or their class. Nearly three fourths of students get their first choice."
   ]
  },
  {
   "cell_type": "markdown",
   "metadata": {},
   "source": [
    "#### Test Task 3:"
   ]
  },
  {
   "cell_type": "code",
   "execution_count": 23,
   "metadata": {
    "scrolled": true
   },
   "outputs": [],
   "source": [
    "def printAnalyse2_3(n):\n",
    "    m = int(9 * n / 10)\n",
    "    N = 200\n",
    "\n",
    "    cpta, cptb = 0, 0\n",
    "\n",
    "    for _ in range(N):\n",
    "        rand_inst = rand_instance2(n)\n",
    "        n, cptA, cptB = analyse2_3(n, rand_inst)\n",
    "        cpta += cptA\n",
    "        cptb += cptB\n",
    "    print(n, \":\")\n",
    "    print(\"Average of cptA:\", cpta / N)\n",
    "    print(\"Percentage of A's to get their first choice:\", int(cpta / m / N * 10000) / 100, \"%\")\n",
    "    print(\"Average of cptB : \", cptb / N)\n",
    "    print(\"Percentage of B's to get their first choice:\", int(cptb / (n - m) / N * 10000) / 100, \"%\")\n",
    "    print(\"_______\")"
   ]
  },
  {
   "cell_type": "code",
   "execution_count": 24,
   "metadata": {},
   "outputs": [
    {
     "name": "stdout",
     "output_type": "stream",
     "text": [
      "1000 :\n",
      "Average of cptA: 676.7\n",
      "Percentage of A's to get their first choice: 75.18 %\n",
      "Average of cptB :  74.605\n",
      "Percentage of B's to get their first choice: 74.6 %\n",
      "_______\n",
      "2000 :\n",
      "Average of cptA: 1350.25\n",
      "Percentage of A's to get their first choice: 75.01 %\n",
      "Average of cptB :  149.115\n",
      "Percentage of B's to get their first choice: 74.55 %\n",
      "_______\n",
      "3000 :\n",
      "Average of cptA: 2027.555\n",
      "Percentage of A's to get their first choice: 75.09 %\n",
      "Average of cptB :  224.255\n",
      "Percentage of B's to get their first choice: 74.75 %\n",
      "_______\n"
     ]
    }
   ],
   "source": [
    "printAnalyse2_3(1000)\n",
    "printAnalyse2_3(2000)\n",
    "printAnalyse2_3(3000)"
   ]
  },
  {
   "cell_type": "markdown",
   "metadata": {},
   "source": [
    "The fraction of people getting their first choices seems independent from the number n or their class. Nearly three fourths of students get their first choice."
   ]
  },
  {
   "cell_type": "markdown",
   "metadata": {},
   "source": [
    "### Test instance 3:"
   ]
  },
  {
   "cell_type": "code",
   "execution_count": 25,
   "metadata": {},
   "outputs": [],
   "source": [
    "def app(studs, grp):\n",
    "    s = random()\n",
    "    if s >= 0.5 : choice = [1, 2]\n",
    "    else: choice = [2, 1]\n",
    "    studs.append(student3(choice, grp))\n",
    "\n",
    "def rand_instance3(n):\n",
    "    \"\"\"\n",
    "    mate2 works with arguments of the classes school3 and student3.\n",
    "    \"\"\" \n",
    "    studs = []\n",
    "    ranQty = []\n",
    "    m1 = n // 2\n",
    "    m2 = int(4 * n / 5)\n",
    "    m3 = int(19 * n / 20)\n",
    "    for k in range(m1 + 1):\n",
    "        app(studs, 0)\n",
    "        ranQty.append((k, gauss(0, 1)))\n",
    "    for k in range(m1 + 1, m2 + 1):\n",
    "        app(studs, 1)\n",
    "        ranQty.append((k, gauss(0, 1)))\n",
    "    for k in range(m2 + 1, m3 + 1):\n",
    "        app(studs, 2)\n",
    "        ranQty.append((k, gauss(0, 1)))\n",
    "    for k in range(m3 + 1, n):\n",
    "        app(studs, 3)\n",
    "        ranQty.append((k, gauss(0, 1)))\n",
    "    ranQty1 = [(k, ranQty[k][1] + gauss(0, 1)) for k in range(n)]\n",
    "    ranQty2 = [(k, ranQty[k][1] + gauss(0, 1)) for k in range(n)]\n",
    "    \n",
    "    ranQty1.sort(key = lambda x : -x[1]) # decreasing order of observed quality\n",
    "    ranQty2.sort(key = lambda x : -x[1])\n",
    "    \n",
    "    s1 = school3([studs[elt[0]] for elt in ranQty1], n // 4, [int(0.9 * n / 4), int(0.9 * n / 4), int(0.9 * n / 4), int(0.9 * n / 4)])\n",
    "    s2 = school3([studs[elt[0]] for elt in ranQty2], n // 4, [int(0.9 * n / 4), int(0.9 * n / 4), int(0.9 * n / 4), int(0.9 * n / 4)])\n",
    "    \n",
    "    return [s1, s2], studs\n",
    "\n",
    "def analyse3_2(n, rand_inst):\n",
    "    res = mate2(rand_inst[0], rand_inst[1])\n",
    "    cptA, cptB, cptC, cptD = 0, 0, 0, 0\n",
    "    for s in [0, 1]:\n",
    "        for elt in res[s]:\n",
    "            if rand_inst[1][elt].prefStud[s] == 1:\n",
    "                if rand_inst[1][elt].grp == 0: cptA += 1\n",
    "                elif rand_inst[1][elt].grp == 1: cptB += 1\n",
    "                elif rand_inst[1][elt].grp == 2: cptC += 1\n",
    "                else: cptD += 1\n",
    "    return n, cptA, cptB, cptC, cptD\n",
    "\n",
    "\n",
    "def analyse3_3(n, rand_inst):\n",
    "    res = mate3(rand_inst[0], rand_inst[1])\n",
    "    cptA, cptB, cptC, cptD = 0, 0, 0, 0\n",
    "    for s in [0, 1]:\n",
    "        for elt in res[s]:\n",
    "            if rand_inst[1][elt].prefStud[s] == 1:\n",
    "                if rand_inst[1][elt].grp == 0: cptA += 1\n",
    "                elif rand_inst[1][elt].grp == 1: cptB += 1\n",
    "                elif rand_inst[1][elt].grp == 2: cptC += 1\n",
    "                else: cptD += 1\n",
    "    return n, cptA, cptB, cptC, cptD"
   ]
  },
  {
   "cell_type": "markdown",
   "metadata": {},
   "source": [
    "#### Test Task 2:"
   ]
  },
  {
   "cell_type": "code",
   "execution_count": 26,
   "metadata": {
    "scrolled": true
   },
   "outputs": [],
   "source": [
    "def printAnalyse3_2(n):\n",
    "    m1 = n // 2\n",
    "    m2 = int(4 * n / 5)\n",
    "    m3 = int(19 * n / 20)\n",
    "    N = 200\n",
    "\n",
    "    cpta, cptb, cptc, cptd = 0, 0, 0, 0\n",
    "\n",
    "    for _ in range(N):\n",
    "        rand_inst = rand_instance3(n)\n",
    "        n, cptA, cptB, cptC, cptD = analyse3_2(n, rand_inst)\n",
    "        cpta += cptA\n",
    "        cptb += cptB\n",
    "        cptc += cptC\n",
    "        cptd += cptD\n",
    "    print(n, \":\")\n",
    "    print(\"Average of cptA:\", cpta / N)\n",
    "    print(\"Percentage of A's to get their first choice:\", int(cpta / m1 / N * 10000) / 100, \"%\")\n",
    "    print(\"_______\")\n",
    "    print(\"Average of cptB : \", cptb / N)\n",
    "    print(\"Percentage of B's to get their first choice:\", int(cptb / (m2 - m1) / N * 10000) / 100, \"%\")\n",
    "    print(\"_______\")\n",
    "    print(\"Average of cptC : \", cptc / N)\n",
    "    print(\"Percentage of C's to get their first choice:\", int(cptc / (m3 - m2) / N * 10000) / 100, \"%\")\n",
    "    print(\"_______\")\n",
    "    print(\"Average of cptD : \", cptd / N)\n",
    "    print(\"Percentage of D's to get their first choice:\", int(cptd / (n - m3) / N * 10000) / 100, \"%\")\n",
    "    print(\"_______\")"
   ]
  },
  {
   "cell_type": "code",
   "execution_count": 27,
   "metadata": {},
   "outputs": [
    {
     "name": "stdout",
     "output_type": "stream",
     "text": [
      "1000 :\n",
      "Average of cptA: 374.35\n",
      "Percentage of A's to get their first choice: 74.87 %\n",
      "_______\n",
      "Average of cptB :  224.495\n",
      "Percentage of B's to get their first choice: 74.83 %\n",
      "_______\n",
      "Average of cptC :  112.255\n",
      "Percentage of C's to get their first choice: 74.83 %\n",
      "_______\n",
      "Average of cptD :  36.9\n",
      "Percentage of D's to get their first choice: 73.8 %\n",
      "_______\n",
      "2000 :\n",
      "Average of cptA: 749.315\n",
      "Percentage of A's to get their first choice: 74.93 %\n",
      "_______\n",
      "Average of cptB :  449.655\n",
      "Percentage of B's to get their first choice: 74.94 %\n",
      "_______\n",
      "Average of cptC :  224.42\n",
      "Percentage of C's to get their first choice: 74.8 %\n",
      "_______\n",
      "Average of cptD :  74.21\n",
      "Percentage of D's to get their first choice: 74.21 %\n",
      "_______\n",
      "3000 :\n",
      "Average of cptA: 1125.945\n",
      "Percentage of A's to get their first choice: 75.06 %\n",
      "_______\n",
      "Average of cptB :  676.41\n",
      "Percentage of B's to get their first choice: 75.15 %\n",
      "_______\n",
      "Average of cptC :  337.79\n",
      "Percentage of C's to get their first choice: 75.06 %\n",
      "_______\n",
      "Average of cptD :  112.465\n",
      "Percentage of D's to get their first choice: 74.97 %\n",
      "_______\n"
     ]
    }
   ],
   "source": [
    "printAnalyse3_2(1000)\n",
    "printAnalyse3_2(2000)\n",
    "printAnalyse3_2(3000)"
   ]
  },
  {
   "cell_type": "markdown",
   "metadata": {},
   "source": [
    "The fraction of people getting their first choices seems independent from the number n or their class. Nearly three fourths of students get their first choice."
   ]
  },
  {
   "cell_type": "markdown",
   "metadata": {},
   "source": [
    "#### Test Task 3:"
   ]
  },
  {
   "cell_type": "code",
   "execution_count": 30,
   "metadata": {
    "scrolled": true
   },
   "outputs": [],
   "source": [
    "def printAnalyse3_3(n):\n",
    "    m1 = n // 2\n",
    "    m2 = int(4 * n / 5)\n",
    "    m3 = int(19 * n / 20)\n",
    "    N = 200\n",
    "\n",
    "    cpta, cptb, cptc, cptd = 0, 0, 0, 0\n",
    "\n",
    "    for _ in range(N):\n",
    "        rand_inst = rand_instance3(n)\n",
    "        n, cptA, cptB, cptC, cptD = analyse3_3(n, rand_inst)\n",
    "        cpta += cptA\n",
    "        cptb += cptB\n",
    "        cptc += cptC\n",
    "        cptd += cptD\n",
    "    print(n, \":\")\n",
    "    print(\"Average of cptA:\", cpta / N)\n",
    "    print(\"Percentage of A's to get their first choice:\", int(cpta / m1 / N * 10000) / 100, \"%\")\n",
    "    print(\"_______\")\n",
    "    print(\"Average of cptB : \", cptb / N)\n",
    "    print(\"Percentage of B's to get their first choice:\", int(cptb / (m2 - m1) / N * 10000) / 100, \"%\")\n",
    "    print(\"_______\")\n",
    "    print(\"Average of cptC : \", cptc / N)\n",
    "    print(\"Percentage of C's to get their first choice:\", int(cptc / (m3 - m2) / N * 10000) / 100, \"%\")\n",
    "    print(\"_______\")\n",
    "    print(\"Average of cptD : \", cptd / N)\n",
    "    print(\"Percentage of D's to get their first choice:\", int(cptd / (n - m3) / N * 10000) / 100, \"%\")\n",
    "    print(\"_______\")"
   ]
  },
  {
   "cell_type": "code",
   "execution_count": 29,
   "metadata": {},
   "outputs": [
    {
     "name": "stdout",
     "output_type": "stream",
     "text": [
      "1000 :\n",
      "Average of cptA: 376.27\n",
      "Percentage of A's to get their first choice: 75.25 %\n",
      "_______\n",
      "Average of cptB :  224.165\n",
      "Percentage of B's to get their first choice: 74.72 %\n",
      "_______\n",
      "Average of cptC :  112.655\n",
      "Percentage of C's to get their first choice: 75.1 %\n",
      "_______\n",
      "Average of cptD :  36.585\n",
      "Percentage of D's to get their first choice: 73.17 %\n",
      "_______\n",
      "2000 :\n",
      "Average of cptA: 750.895\n",
      "Percentage of A's to get their first choice: 75.08 %\n",
      "_______\n",
      "Average of cptB :  450.13\n",
      "Percentage of B's to get their first choice: 75.02 %\n",
      "_______\n",
      "Average of cptC :  224.92\n",
      "Percentage of C's to get their first choice: 74.97 %\n",
      "_______\n",
      "Average of cptD :  73.805\n",
      "Percentage of D's to get their first choice: 73.8 %\n",
      "_______\n",
      "3000 :\n",
      "Average of cptA: 1121.675\n",
      "Percentage of A's to get their first choice: 74.77 %\n",
      "_______\n",
      "Average of cptB :  675.24\n",
      "Percentage of B's to get their first choice: 75.02 %\n",
      "_______\n",
      "Average of cptC :  338.105\n",
      "Percentage of C's to get their first choice: 75.13 %\n",
      "_______\n",
      "Average of cptD :  111.775\n",
      "Percentage of D's to get their first choice: 74.51 %\n",
      "_______\n"
     ]
    }
   ],
   "source": [
    "printAnalyse3_3(1000)\n",
    "printAnalyse3_3(2000)\n",
    "printAnalyse3_3(3000)"
   ]
  },
  {
   "cell_type": "markdown",
   "metadata": {},
   "source": [
    "The fraction of people getting their first choices seems independent from the number n or their class. Nearly three fourths of students get their first choice."
   ]
  },
  {
   "cell_type": "markdown",
   "metadata": {},
   "source": [
    "## Task 5:"
   ]
  },
  {
   "cell_type": "markdown",
   "metadata": {},
   "source": [
    "### Discussing the implementation:\n",
    "\n",
    "The basic idea is to keep sure that we do add a person of a lacking group and do not add a person of a group in excess. For this, we use two lists ```lim_inf``` and ```lim_sup``` that keep track of groups that have reached the minimum porpotion limit or the maximum proportion limit respectively.\n",
    "\n",
    "When this is the case, we take the first adequate person in the ranking list give them the position and then move all the intermediary people by one downward. In case, no more elements of the lacking group are to be found, we basically do not act."
   ]
  },
  {
   "cell_type": "markdown",
   "metadata": {},
   "source": [
    "### Choice of data structure:\n",
    "\n",
    "We have chosen, in respect with the structure of the class ```school```, that the list of preferences is the ranking of students from the most prefered to the least. Proportions is represented by a list. Moreover, the list ```cpt``` keeps track of the number of classified people in order to optimize the counting."
   ]
  },
  {
   "cell_type": "code",
   "execution_count": 35,
   "metadata": {},
   "outputs": [],
   "source": [
    "def fair_rank(L, prop):\n",
    "    \"\"\"\n",
    "    L is a list of ranked students from the most preferred school to the least preferred by the school.\n",
    "    prop is the list of proportions of the groups in the population.\n",
    "    This function is a procedure that acts directly on the list of preferences.\n",
    "    \"\"\"\n",
    "    r = 0.8\n",
    "    R = 1.2\n",
    "    n = len(prop) # number of groups\n",
    "    N = len(L) # number of students\n",
    "    cpt = [0] * n\n",
    "    cpt[L[0].grp] = 1\n",
    "    for k in range(1, len(L)):\n",
    "        lim_inf = [False] * n\n",
    "        lim_sup = [False] * n\n",
    "        act = False\n",
    "        for i in range(n):\n",
    "            if cpt[i] / (k + 1) <= r * prop[i]:\n",
    "                lim_inf[i] = True\n",
    "                act = True\n",
    "            if cpt[i] / (k + 1) >= R * prop[i]:\n",
    "                lim_sup[i] = True\n",
    "                act = True\n",
    "        if act:\n",
    "            for j in range(k, N):\n",
    "                if lim_sup[L[j].grp]: continue\n",
    "                if lim_inf[L[j].grp]:\n",
    "                    temp = L[j]\n",
    "                    for l in range(j-1, k-1, -1):\n",
    "                        L[l + 1] = L[l]\n",
    "                    L[k] = temp\n",
    "                    break\n",
    "        cpt[L[k].grp] += 1  # keeping track of the number of people of each group"
   ]
  },
  {
   "cell_type": "markdown",
   "metadata": {},
   "source": [
    "### Complexity estimation:\n",
    "\n",
    "#### Time complexity:\n",
    "\n",
    "At first look, we might say that the time complexity is $O(N (n + N))$, where $n$ is the number of groups and $N$ the number of students.\n",
    "\n",
    "However, $n \\le N$, therfore the complexity is $O(N^2)$.\n",
    "\n",
    "#### Space complexity:\n",
    "\n",
    "We have used 5 lists of length n or N. Therefore, the space complexity is $\\Theta(N)$."
   ]
  },
  {
   "cell_type": "markdown",
   "metadata": {},
   "source": [
    "## Task 6:"
   ]
  },
  {
   "cell_type": "code",
   "execution_count": 57,
   "metadata": {},
   "outputs": [],
   "source": [
    "def test(rand_inst,prop):\n",
    "    r = 0.8\n",
    "    R = 1.2\n",
    "    n = len(prop)\n",
    "    res = mate2(rand_inst[0], rand_inst[1])\n",
    "    ret = []\n",
    "    for s in [0, 1]:\n",
    "        cpt = [0] * n\n",
    "        Ns = len(res[s])\n",
    "        for elt in res[s]:\n",
    "            cpt[rand_inst[1][elt].grp] += 1\n",
    "        for i in range(n):\n",
    "            if (cpt[i] - 1) / Ns < r or (cpt[i] + 1) / Ns > R:\n",
    "                ret.append(False)\n",
    "        ret.append(True)\n",
    "    return ret"
   ]
  },
  {
   "cell_type": "markdown",
   "metadata": {},
   "source": [
    "### Test instance 2:"
   ]
  },
  {
   "cell_type": "code",
   "execution_count": 36,
   "metadata": {},
   "outputs": [],
   "source": [
    "prop2 = [0.9, 0.1]"
   ]
  },
  {
   "cell_type": "code",
   "execution_count": 60,
   "metadata": {
    "scrolled": true
   },
   "outputs": [],
   "source": [
    "def printAnalyse6_2(n):\n",
    "    \n",
    "    N = 200\n",
    "    \n",
    "    for _ in range(N):\n",
    "        rand_inst = rand_instance2(n)\n",
    "        fair_rank(rand_inst[0][0].prefer, prop2)\n",
    "        fair_rank(rand_inst[0][1].prefer, prop2)\n",
    "    boolean = test(rand_inst, prop2)\n",
    "    print(n, \":\")\n",
    "    print(\"s1 verifies the 4/5 - rule \", boolean[0])\n",
    "    print(\"s2 verifies the 4/5 - rule \", boolean[1])\n",
    "    print(\"________________\")"
   ]
  },
  {
   "cell_type": "code",
   "execution_count": 61,
   "metadata": {},
   "outputs": [
    {
     "name": "stdout",
     "output_type": "stream",
     "text": [
      "1000 :\n",
      "s1 verifies the 4/5 - rule  False\n",
      "s2 verifies the 4/5 - rule  True\n",
      "________________\n",
      "2000 :\n",
      "s1 verifies the 4/5 - rule  False\n",
      "s2 verifies the 4/5 - rule  True\n",
      "________________\n",
      "3000 :\n",
      "s1 verifies the 4/5 - rule  False\n",
      "s2 verifies the 4/5 - rule  True\n",
      "________________\n"
     ]
    }
   ],
   "source": [
    "printAnalyse6_2(1000)\n",
    "printAnalyse6_2(2000)\n",
    "printAnalyse6_2(3000)"
   ]
  },
  {
   "cell_type": "markdown",
   "metadata": {},
   "source": [
    "##### Remark:\n",
    "\n",
    "The schools do not satistfy rigourously the 4/5-rule because there are not enough candidates."
   ]
  },
  {
   "cell_type": "markdown",
   "metadata": {},
   "source": [
    "### Test instance 3:"
   ]
  },
  {
   "cell_type": "code",
   "execution_count": 64,
   "metadata": {},
   "outputs": [],
   "source": [
    "prop3 = [0.5, 0.3, 0.15, 0.05]"
   ]
  },
  {
   "cell_type": "code",
   "execution_count": 68,
   "metadata": {
    "scrolled": true
   },
   "outputs": [],
   "source": [
    "def printAnalyse6_3(n):\n",
    "    \n",
    "    N = 200\n",
    "    \n",
    "    for _ in range(N):\n",
    "        rand_inst = rand_instance3(n)\n",
    "        fair_rank(rand_inst[0][0].prefer, prop3)\n",
    "        fair_rank(rand_inst[0][1].prefer, prop3)\n",
    "    boolean = test(rand_inst, prop3)\n",
    "    print(n, \":\")\n",
    "    print(\"s1 verifies the 4/5 - rule \", boolean[0])\n",
    "    print(\"s1 verifies the 4/5 - rule \", boolean[1])\n",
    "    print(\"________________\")"
   ]
  },
  {
   "cell_type": "code",
   "execution_count": 69,
   "metadata": {
    "scrolled": true
   },
   "outputs": [
    {
     "name": "stdout",
     "output_type": "stream",
     "text": [
      "1000 :\n",
      "s1 verifies the 4/5 - rule  False\n",
      "s1 verifies the 4/5 - rule  False\n",
      "________________\n",
      "2000 :\n",
      "s1 verifies the 4/5 - rule  False\n",
      "s1 verifies the 4/5 - rule  False\n",
      "________________\n",
      "3000 :\n",
      "s1 verifies the 4/5 - rule  False\n",
      "s1 verifies the 4/5 - rule  False\n",
      "________________\n"
     ]
    }
   ],
   "source": [
    "printAnalyse6_3(1000)\n",
    "printAnalyse6_3(2000)\n",
    "printAnalyse6_3(3000)"
   ]
  },
  {
   "cell_type": "markdown",
   "metadata": {},
   "source": [
    "##### Remark:\n",
    "\n",
    "The schools do not satistfy rigourously the 4/5-rule because there are not enough candidates."
   ]
  },
  {
   "cell_type": "markdown",
   "metadata": {},
   "source": [
    "## Task 7:"
   ]
  },
  {
   "cell_type": "markdown",
   "metadata": {},
   "source": [
    "### Discussing the implementation:\n",
    "\n",
    "Here, for memory efficiency and for avoiding useless search, we suppose that ```feasability``` is a function that returns whether a demand set is feasible for a school or not.\n",
    "\n",
    "In order to make the definition of the demand function faster, we will compute a table that yields for each pair (school $s$, student $i$) the value of $p_{s}$ such that: $i = i^{(s, p_{s})}$.\n",
    "\n",
    "Moreover, we can observe that once we find a feasible demand for a school, it will be the demand returned by the algorithm."
   ]
  },
  {
   "cell_type": "code",
   "execution_count": 207,
   "metadata": {},
   "outputs": [],
   "source": [
    "def i_s_ps(schools, students):\n",
    "    \"\"\"\n",
    "    Returns a table that gives for each pair (i, s) the p such as i = i^(s, p).\n",
    "    \"\"\"\n",
    "    I = len(students)\n",
    "    res = []\n",
    "    for s in range(len(schools)):\n",
    "        line = {}\n",
    "        for i in range(I):\n",
    "            line[schools[s].prefer[i]] = I - i\n",
    "        res.append(line)\n",
    "    return res"
   ]
  },
  {
   "cell_type": "code",
   "execution_count": 208,
   "metadata": {},
   "outputs": [],
   "source": [
    "def demand(studs, table, s, P):\n",
    "    \"\"\"\n",
    "    Returns the demand set for the school s using the table defined above.\n",
    "    \"\"\"\n",
    "    res = []\n",
    "    m = len(table)\n",
    "    for i in range(len(table[0])):\n",
    "        if table[s][studs[i]] >= P[s]:\n",
    "            if studs[i].prefStud[s] < studs[i].prefStud[studs[i].schlStud]:\n",
    "                for s_prime in range(m):\n",
    "                    if table[s_prime][studs[i]] >= P[s] and studs[i].prefStud[s] > studs[i].prefStud[s_prime]:\n",
    "                        break\n",
    "                else:\n",
    "                    res.append(i)\n",
    "    return res"
   ]
  },
  {
   "cell_type": "code",
   "execution_count": 210,
   "metadata": {},
   "outputs": [],
   "source": [
    "def T(P, res, studs, schools, table, feasability):\n",
    "    \"\"\"\n",
    "    feasability is a function.\n",
    "    \"\"\"\n",
    "    test = False\n",
    "    I = len(studs)\n",
    "    for s in range(len(table)):\n",
    "        if res[s][0]:\n",
    "            if P[s] == I + 1: continue\n",
    "            res[s][1] = demand(studs, table, s, P)\n",
    "            if not feasability(schools[s], res[s][1], studs): \n",
    "                P[s] += 1\n",
    "                test = True\n",
    "            else:\n",
    "                res[s][0] = False\n",
    "    return test"
   ]
  },
  {
   "cell_type": "code",
   "execution_count": 291,
   "metadata": {},
   "outputs": [],
   "source": [
    "def fixed_algo(studs, schools, feasability):\n",
    "    \"\"\"\n",
    "    We will use the observation that once we find a feasible demand for a\n",
    "    school, it will be the demand returned by the algorithm.\n",
    "    \n",
    "    The function return P in order to verify if our hypothesis concerning the\n",
    "    execution of the fixed-point algorithm for the 4/5-rule.\n",
    "    \"\"\"\n",
    "    table = i_s_ps(schools, studs)\n",
    "    res = [[True, None] for s in range(len(schools))]\n",
    "    P = [1] * len(schools)\n",
    "    while T(P, res, studs, schools, table, feasability):\n",
    "        continue\n",
    "    return [res[s][1] for s in range(len(schools))], P"
   ]
  },
  {
   "cell_type": "markdown",
   "metadata": {},
   "source": [
    "### Complexity estimation:\n",
    "\n",
    "#### Time complexity:\n",
    "\n",
    "Let us note $\\mathcal{F}$ the worst case time complexity of the feasability function when applied to our data.\n",
    "\n",
    "Building the table is of time complexity $\\Theta(|I| |S|)$. \n",
    "\n",
    "Each execution of the function ```demand``` is of time complexity $O(|I| |S|)$. \n",
    "\n",
    "Therefore, the time complexity of one call of ```T``` is $O(|I| |S| |S| \\mathcal{F}) = O(|I| |S|^{2} \\mathcal{F})$, depending of whether or not we call ```demand```.\n",
    "\n",
    "Now, we must determine the number of times we must run ```T``` with a ```demand``` call. Since we are working with a general ```feasability``` function, we can at least say that it is $O(|I| |S|)$ times.\n",
    "\n",
    "In conclusion, we can say that in worst cases, the complexity is $O(|I|^{2} |S|^{3} \\mathcal{F})$.\n",
    "\n",
    "#### Space complexity:\n",
    "\n",
    "A \"student\" has space complexity of $\\Theta(|\\mathcal{G}| + |S|)$.\n",
    "\n",
    "A \"school\" has space complexity of $\\Theta(|\\mathcal{G}| + |I|)$.\n",
    "\n",
    "The arguments of the code of complexity $\\Theta(|S| |I| + |\\mathcal{G}| |S| + |I|)$, i.e. $O(|I|^{2} + |I| |S|)$.\n",
    "\n",
    "Since the remaining elements are only $O(|I| |S|)$ pointers to the arguments, the total space complexity is $O(|I|^{2} +|I| |S|)$."
   ]
  },
  {
   "cell_type": "markdown",
   "metadata": {},
   "source": [
    "## Task 8:"
   ]
  },
  {
   "cell_type": "code",
   "execution_count": 153,
   "metadata": {},
   "outputs": [],
   "source": [
    "def feasability8(school, students, studsInfo):\n",
    "    return school.quota >= len(students)"
   ]
  },
  {
   "cell_type": "markdown",
   "metadata": {},
   "source": [
    "### Test Instance 1:"
   ]
  },
  {
   "cell_type": "code",
   "execution_count": 154,
   "metadata": {},
   "outputs": [],
   "source": [
    "stud1 = student2([1, 2, 3])\n",
    "stud2 = student2([2, 1, 3])\n",
    "stud3 = student2([1, 3, 2])\n",
    "stud4 = student2([3, 1, 2])"
   ]
  },
  {
   "cell_type": "code",
   "execution_count": 155,
   "metadata": {},
   "outputs": [],
   "source": [
    "s1 = school2([stud4, stud3, stud2, stud1], 2)\n",
    "s2 = school2([stud4, stud3, stud2, stud1], 2)"
   ]
  },
  {
   "cell_type": "code",
   "execution_count": 169,
   "metadata": {},
   "outputs": [
    {
     "data": {
      "image/png": "[encoded data removed]",
      "text/plain": [
       "<Figure size 432x288 with 1 Axes>"
      ]
     },
     "metadata": {
      "needs_background": "light"
     },
     "output_type": "display_data"
    }
   ],
   "source": [
    "represent(fixed_algo([stud1, stud2, stud3, stud4], [s1, s2], feasability8)[0] + [[]], ['r', 'b', 'g', 'y'])"
   ]
  },
  {
   "cell_type": "markdown",
   "metadata": {},
   "source": [
    "We see that we get the same result as previously."
   ]
  },
  {
   "cell_type": "markdown",
   "metadata": {},
   "source": [
    "### Test Instance 2:"
   ]
  },
  {
   "cell_type": "code",
   "execution_count": 170,
   "metadata": {},
   "outputs": [],
   "source": [
    "def analyse8_2(n, rand_inst):\n",
    "    res = fixed_algo(rand_inst[1], rand_inst[0], feasability8)[0]\n",
    "    cptA, cptB = 0, 0\n",
    "    for s in [0, 1]:\n",
    "        for elt in res[s]:\n",
    "            if rand_inst[1][elt].prefStud[s] == 1:\n",
    "                if rand_inst[1][elt].grp == 0: cptA += 1\n",
    "                else: cptB += 1\n",
    "    return n, cptA, cptB"
   ]
  },
  {
   "cell_type": "code",
   "execution_count": 171,
   "metadata": {
    "scrolled": true
   },
   "outputs": [],
   "source": [
    "def printAnalyse8_2(n):\n",
    "    m = int(9 * n / 10)\n",
    "    N = 200\n",
    "\n",
    "    cpta, cptb = 0, 0\n",
    "\n",
    "    for _ in range(N):\n",
    "        rand_inst = rand_instance2(n)\n",
    "        n, cptA, cptB = analyse8_2(n, rand_inst)\n",
    "        cpta += cptA\n",
    "        cptb += cptB\n",
    "    print(n, \":\")\n",
    "    print(\"Average of cptA:\", cpta / N)\n",
    "    print(\"Percentage of A's to get their first choice:\", int(cpta / m / N * 10000) / 100, \"%\")\n",
    "    print(\"Average of cptB : \", cptb / N)\n",
    "    print(\"Percentage of B's to get their first choice:\", int(cptb / (n - m) / N * 10000) / 100, \"%\")\n",
    "    print(\"_______\")"
   ]
  },
  {
   "cell_type": "code",
   "execution_count": 172,
   "metadata": {
    "scrolled": false
   },
   "outputs": [
    {
     "name": "stdout",
     "output_type": "stream",
     "text": [
      "1000 :\n",
      "Average of cptA: 225.245\n",
      "Percentage of A's to get their first choice: 25.02 %\n",
      "Average of cptB :  24.755\n",
      "Percentage of B's to get their first choice: 24.75 %\n",
      "_______\n",
      "2000 :\n",
      "Average of cptA: 450.385\n",
      "Percentage of A's to get their first choice: 25.02 %\n",
      "Average of cptB :  49.615\n",
      "Percentage of B's to get their first choice: 24.8 %\n",
      "_______\n",
      "3000 :\n",
      "Average of cptA: 675.29\n",
      "Percentage of A's to get their first choice: 25.01 %\n",
      "Average of cptB :  74.71\n",
      "Percentage of B's to get their first choice: 24.9 %\n",
      "_______\n"
     ]
    }
   ],
   "source": [
    "printAnalyse8_2(1000)\n",
    "printAnalyse8_2(2000)\n",
    "printAnalyse8_2(3000)"
   ]
  },
  {
   "cell_type": "markdown",
   "metadata": {},
   "source": [
    "We observe a sharp decrease in the number of people getting their first choice since it went from nearly $75\\%$ when we used the task $2$ implementation to roughly $25\\%$."
   ]
  },
  {
   "cell_type": "markdown",
   "metadata": {},
   "source": [
    "### Test Instance 3:"
   ]
  },
  {
   "cell_type": "code",
   "execution_count": null,
   "metadata": {},
   "outputs": [],
   "source": [
    "def analyse8_3(n, rand_inst):\n",
    "    res = fixed_algo(rand_inst[1], rand_inst[0], feasability8)[0]\n",
    "    cptA, cptB, cptC, cptD = 0, 0, 0, 0\n",
    "    for s in [0, 1]:\n",
    "        for elt in res[s]:\n",
    "            if rand_inst[1][elt].prefStud[s] == 1:\n",
    "                if rand_inst[1][elt].grp == 0: cptA += 1\n",
    "                elif rand_inst[1][elt].grp == 1: cptB += 1\n",
    "                elif rand_inst[1][elt].grp == 2: cptC += 1\n",
    "                else: cptD += 1\n",
    "    return n, cptA, cptB, cptC, cptD"
   ]
  },
  {
   "cell_type": "code",
   "execution_count": 177,
   "metadata": {
    "scrolled": true
   },
   "outputs": [],
   "source": [
    "def printAnalyse8_3(n):\n",
    "    m1 = n // 2\n",
    "    m2 = int(4 * n / 5)\n",
    "    m3 = int(19 * n / 20)\n",
    "    N = 200\n",
    "\n",
    "    cpta, cptb, cptc, cptd = 0, 0, 0, 0\n",
    "\n",
    "    for _ in range(N):\n",
    "        rand_inst = rand_instance3(n)\n",
    "        n, cptA, cptB, cptC, cptD = analyse8_3(n, rand_inst)\n",
    "        cpta += cptA\n",
    "        cptb += cptB\n",
    "        cptc += cptC\n",
    "        cptd += cptD\n",
    "    print(n, \":\")\n",
    "    print(\"Average of cptA:\", cpta / N)\n",
    "    print(\"Percentage of A's to get their first choice:\", int(cpta / m1 / N * 10000) / 100, \"%\")\n",
    "    print(\"_______\")\n",
    "    print(\"Average of cptB : \", cptb / N)\n",
    "    print(\"Percentage of B's to get their first choice:\", int(cptb / (m2 - m1) / N * 10000) / 100, \"%\")\n",
    "    print(\"_______\")\n",
    "    print(\"Average of cptC : \", cptc / N)\n",
    "    print(\"Percentage of C's to get their first choice:\", int(cptc / (m3 - m2) / N * 10000) / 100, \"%\")\n",
    "    print(\"_______\")\n",
    "    print(\"Average of cptD : \", cptd / N)\n",
    "    print(\"Percentage of D's to get their first choice:\", int(cptd / (n - m3) / N * 10000) / 100, \"%\")\n",
    "    print(\"_______\")"
   ]
  },
  {
   "cell_type": "code",
   "execution_count": 178,
   "metadata": {},
   "outputs": [
    {
     "name": "stdout",
     "output_type": "stream",
     "text": [
      "1000 :\n",
      "Average of cptA: 125.255\n",
      "Percentage of A's to get their first choice: 25.05 %\n",
      "_______\n",
      "Average of cptB :  75.085\n",
      "Percentage of B's to get their first choice: 25.02 %\n",
      "_______\n",
      "Average of cptC :  37.125\n",
      "Percentage of C's to get their first choice: 24.75 %\n",
      "_______\n",
      "Average of cptD :  12.535\n",
      "Percentage of D's to get their first choice: 25.07 %\n",
      "_______\n",
      "2000 :\n",
      "Average of cptA: 249.095\n",
      "Percentage of A's to get their first choice: 24.9 %\n",
      "_______\n",
      "Average of cptB :  150.915\n",
      "Percentage of B's to get their first choice: 25.15 %\n",
      "_______\n",
      "Average of cptC :  75.195\n",
      "Percentage of C's to get their first choice: 25.06 %\n",
      "_______\n",
      "Average of cptD :  24.795\n",
      "Percentage of D's to get their first choice: 24.79 %\n",
      "_______\n",
      "3000 :\n",
      "Average of cptA: 375.32\n",
      "Percentage of A's to get their first choice: 25.02 %\n",
      "_______\n",
      "Average of cptB :  225.42\n",
      "Percentage of B's to get their first choice: 25.04 %\n",
      "_______\n",
      "Average of cptC :  111.685\n",
      "Percentage of C's to get their first choice: 24.81 %\n",
      "_______\n",
      "Average of cptD :  37.575\n",
      "Percentage of D's to get their first choice: 25.05 %\n",
      "_______\n"
     ]
    }
   ],
   "source": [
    "printAnalyse8_3(1000)\n",
    "printAnalyse8_3(2000)\n",
    "printAnalyse8_3(3000)"
   ]
  },
  {
   "cell_type": "markdown",
   "metadata": {},
   "source": [
    "We observe a sharp decrease in the number of people getting their first choice since it went from nearly $75\\%$ when we used the task $2$ implementation to roughly $25\\%$."
   ]
  },
  {
   "cell_type": "markdown",
   "metadata": {},
   "source": [
    "## Task 9:"
   ]
  },
  {
   "cell_type": "code",
   "execution_count": 200,
   "metadata": {},
   "outputs": [],
   "source": [
    "def feasability9(school, students, studsInfo):\n",
    "    if len(students) > school.quota: return False\n",
    "    cpt = [0] * len(school.quota_grp)\n",
    "    for elt in students:\n",
    "        if cpt[studsInfo[elt].grp] >= school.quota_grp[studsInfo[elt].grp]:\n",
    "            return False\n",
    "        cpt[studsInfo[elt].grp] += 1\n",
    "    return True"
   ]
  },
  {
   "cell_type": "markdown",
   "metadata": {},
   "source": [
    "### Test Instance 1:"
   ]
  },
  {
   "cell_type": "code",
   "execution_count": 190,
   "metadata": {},
   "outputs": [],
   "source": [
    "stud1 = student3([1, 2, 3], 0)\n",
    "stud2 = student3([2, 1, 3], 0)\n",
    "stud3 = student3([1, 3, 2], 0)\n",
    "stud4 = student3([3, 1, 2], 1)"
   ]
  },
  {
   "cell_type": "code",
   "execution_count": 191,
   "metadata": {},
   "outputs": [],
   "source": [
    "s1 = school3([stud4, stud3, stud2, stud1], 2, [2, 2])\n",
    "s2 = school3([stud4, stud3, stud2, stud1], 2, [2, 2])"
   ]
  },
  {
   "cell_type": "code",
   "execution_count": 201,
   "metadata": {},
   "outputs": [
    {
     "data": {
      "image/png": "[encoded data removed]",
      "text/plain": [
       "<Figure size 432x288 with 1 Axes>"
      ]
     },
     "metadata": {
      "needs_background": "light"
     },
     "output_type": "display_data"
    }
   ],
   "source": [
    "represent(fixed_algo([stud1, stud2, stud3, stud4], [s1, s2], feasability9)[0] + [[]], ['r', 'b', 'g', 'y'])"
   ]
  },
  {
   "cell_type": "markdown",
   "metadata": {},
   "source": [
    "We see that we get the same result as previously."
   ]
  },
  {
   "cell_type": "markdown",
   "metadata": {},
   "source": [
    "### Test Instance 2:"
   ]
  },
  {
   "cell_type": "code",
   "execution_count": 202,
   "metadata": {},
   "outputs": [],
   "source": [
    "def analyse9_2(n, rand_inst):\n",
    "    res = fixed_algo(rand_inst[1], rand_inst[0], feasability9)[0]\n",
    "    cptA, cptB = 0, 0\n",
    "    for s in [0, 1]:\n",
    "        for elt in res[s]:\n",
    "            if rand_inst[1][elt].prefStud[s] == 1:\n",
    "                if rand_inst[1][elt].grp == 0: cptA += 1\n",
    "                else: cptB += 1\n",
    "    return n, cptA, cptB"
   ]
  },
  {
   "cell_type": "code",
   "execution_count": 203,
   "metadata": {
    "scrolled": true
   },
   "outputs": [],
   "source": [
    "def printAnalyse9_2(n):\n",
    "    m = int(9 * n / 10)\n",
    "    N = 200\n",
    "\n",
    "    cpta, cptb = 0, 0\n",
    "\n",
    "    for _ in range(N):\n",
    "        rand_inst = rand_instance2(n)\n",
    "        n, cptA, cptB = analyse9_2(n, rand_inst)\n",
    "        cpta += cptA\n",
    "        cptb += cptB\n",
    "    print(n, \":\")\n",
    "    print(\"Average of cptA:\", cpta / N)\n",
    "    print(\"Percentage of A's to get their first choice:\", int(cpta / m / N * 10000) / 100, \"%\")\n",
    "    print(\"Average of cptB : \", cptb / N)\n",
    "    print(\"Percentage of B's to get their first choice:\", int(cptb / (n - m) / N * 10000) / 100, \"%\")\n",
    "    print(\"_______\")"
   ]
  },
  {
   "cell_type": "code",
   "execution_count": 204,
   "metadata": {
    "scrolled": false
   },
   "outputs": [
    {
     "name": "stdout",
     "output_type": "stream",
     "text": [
      "1000 :\n",
      "Average of cptA: 223.455\n",
      "Percentage of A's to get their first choice: 24.82 %\n",
      "Average of cptB :  24.43\n",
      "Percentage of B's to get their first choice: 24.43 %\n",
      "_______\n",
      "2000 :\n",
      "Average of cptA: 447.635\n",
      "Percentage of A's to get their first choice: 24.86 %\n",
      "Average of cptB :  49.565\n",
      "Percentage of B's to get their first choice: 24.78 %\n",
      "_______\n",
      "3000 :\n",
      "Average of cptA: 672.39\n",
      "Percentage of A's to get their first choice: 24.9 %\n",
      "Average of cptB :  74.265\n",
      "Percentage of B's to get their first choice: 24.75 %\n",
      "_______\n"
     ]
    }
   ],
   "source": [
    "printAnalyse9_2(1000)\n",
    "printAnalyse9_2(2000)\n",
    "printAnalyse9_2(3000)"
   ]
  },
  {
   "cell_type": "markdown",
   "metadata": {},
   "source": [
    "We observe a sharp decrease in the number of people getting their first choice since it went from nearly $75\\%$ to roughly $25\\%$."
   ]
  },
  {
   "cell_type": "markdown",
   "metadata": {},
   "source": [
    "### Test Instance 3:"
   ]
  },
  {
   "cell_type": "code",
   "execution_count": 212,
   "metadata": {},
   "outputs": [],
   "source": [
    "def analyse9_3(n, rand_inst):\n",
    "    res = fixed_algo(rand_inst[1], rand_inst[0], feasability9)[0]\n",
    "    cptA, cptB, cptC, cptD = 0, 0, 0, 0\n",
    "    for s in [0, 1]:\n",
    "        for elt in res[s]:\n",
    "            if rand_inst[1][elt].prefStud[s] == 1:\n",
    "                if rand_inst[1][elt].grp == 0: cptA += 1\n",
    "                elif rand_inst[1][elt].grp == 1: cptB += 1\n",
    "                elif rand_inst[1][elt].grp == 2: cptC += 1\n",
    "                else: cptD += 1\n",
    "    return n, cptA, cptB, cptC, cptD"
   ]
  },
  {
   "cell_type": "code",
   "execution_count": 213,
   "metadata": {
    "scrolled": true
   },
   "outputs": [],
   "source": [
    "def printAnalyse9_3(n):\n",
    "    m1 = n // 2\n",
    "    m2 = int(4 * n / 5)\n",
    "    m3 = int(19 * n / 20)\n",
    "    N = 200\n",
    "\n",
    "    cpta, cptb, cptc, cptd = 0, 0, 0, 0\n",
    "\n",
    "    for _ in range(N):\n",
    "        rand_inst = rand_instance3(n)\n",
    "        n, cptA, cptB, cptC, cptD = analyse9_3(n, rand_inst)\n",
    "        cpta += cptA\n",
    "        cptb += cptB\n",
    "        cptc += cptC\n",
    "        cptd += cptD\n",
    "    print(n, \":\")\n",
    "    print(\"Average of cptA:\", cpta / N)\n",
    "    print(\"Percentage of A's to get their first choice:\", int(cpta / m1 / N * 10000) / 100, \"%\")\n",
    "    print(\"_______\")\n",
    "    print(\"Average of cptB : \", cptb / N)\n",
    "    print(\"Percentage of B's to get their first choice:\", int(cptb / (m2 - m1) / N * 10000) / 100, \"%\")\n",
    "    print(\"_______\")\n",
    "    print(\"Average of cptC : \", cptc / N)\n",
    "    print(\"Percentage of C's to get their first choice:\", int(cptc / (m3 - m2) / N * 10000) / 100, \"%\")\n",
    "    print(\"_______\")\n",
    "    print(\"Average of cptD : \", cptd / N)\n",
    "    print(\"Percentage of D's to get their first choice:\", int(cptd / (n - m3) / N * 10000) / 100, \"%\")\n",
    "    print(\"_______\")"
   ]
  },
  {
   "cell_type": "code",
   "execution_count": 214,
   "metadata": {
    "scrolled": false
   },
   "outputs": [
    {
     "name": "stdout",
     "output_type": "stream",
     "text": [
      "1000 :\n",
      "Average of cptA: 125.4\n",
      "Percentage of A's to get their first choice: 25.07 %\n",
      "_______\n",
      "Average of cptB :  75.27\n",
      "Percentage of B's to get their first choice: 25.09 %\n",
      "_______\n",
      "Average of cptC :  37.23\n",
      "Percentage of C's to get their first choice: 24.82 %\n",
      "_______\n",
      "Average of cptD :  12.1\n",
      "Percentage of D's to get their first choice: 24.2 %\n",
      "_______\n",
      "2000 :\n",
      "Average of cptA: 250.06\n",
      "Percentage of A's to get their first choice: 25.0 %\n",
      "_______\n",
      "Average of cptB :  150.0\n",
      "Percentage of B's to get their first choice: 25.0 %\n",
      "_______\n",
      "Average of cptC :  75.15\n",
      "Percentage of C's to get their first choice: 25.05 %\n",
      "_______\n",
      "Average of cptD :  24.79\n",
      "Percentage of D's to get their first choice: 24.79 %\n",
      "_______\n",
      "3000 :\n",
      "Average of cptA: 376.33\n",
      "Percentage of A's to get their first choice: 25.08 %\n",
      "_______\n",
      "Average of cptB :  224.63\n",
      "Percentage of B's to get their first choice: 24.95 %\n",
      "_______\n",
      "Average of cptC :  111.895\n",
      "Percentage of C's to get their first choice: 24.86 %\n",
      "_______\n",
      "Average of cptD :  37.145\n",
      "Percentage of D's to get their first choice: 24.76 %\n",
      "_______\n"
     ]
    }
   ],
   "source": [
    "printAnalyse9_3(1000)\n",
    "printAnalyse9_3(2000)\n",
    "printAnalyse9_3(3000)"
   ]
  },
  {
   "cell_type": "markdown",
   "metadata": {},
   "source": [
    "We observe a sharp decrease in the number of people getting their first choice since it went from nearly $75\\%$ to roughly $25\\%$."
   ]
  },
  {
   "cell_type": "markdown",
   "metadata": {},
   "source": [
    "## Task 10:"
   ]
  },
  {
   "cell_type": "markdown",
   "metadata": {},
   "source": [
    "We will try to run the codes we previously run for testing the capacity constraints and the maximum quota constraint feasability condition. We suppose that the algorithm will run until at least one value of $P$ is $|I| + 1$, which corresponds to a solution with a school that takes no students."
   ]
  },
  {
   "cell_type": "code",
   "execution_count": 292,
   "metadata": {},
   "outputs": [],
   "source": [
    "def feasability10(school, students, studsInfo):\n",
    "    cpt = [0] * len(school.quota_grp)\n",
    "    for elt in students:\n",
    "        cpt[studsInfo[elt].grp] += 1\n",
    "    for g in range(len(school.quota_grp)):\n",
    "        if cpt[g] < 0.8 * school.quota_grp[g] or cpt[g] > 1.2 * school.quota_grp[g]:\n",
    "            return False\n",
    "    return True"
   ]
  },
  {
   "cell_type": "markdown",
   "metadata": {},
   "source": [
    "### Test Instance 1:"
   ]
  },
  {
   "cell_type": "code",
   "execution_count": 293,
   "metadata": {},
   "outputs": [],
   "source": [
    "stud1 = student3([1, 2, 3], 0)\n",
    "stud2 = student3([2, 1, 3], 0)\n",
    "stud3 = student3([1, 3, 2], 0)\n",
    "stud4 = student3([3, 1, 2], 1)"
   ]
  },
  {
   "cell_type": "code",
   "execution_count": 294,
   "metadata": {},
   "outputs": [],
   "source": [
    "s1 = school3([stud4, stud3, stud2, stud1], 2, [2, 2])\n",
    "s2 = school3([stud4, stud3, stud2, stud1], 2, [2, 2])"
   ]
  },
  {
   "cell_type": "code",
   "execution_count": 295,
   "metadata": {},
   "outputs": [
    {
     "data": {
      "text/plain": [
       "[5, 5]"
      ]
     },
     "execution_count": 295,
     "metadata": {},
     "output_type": "execute_result"
    }
   ],
   "source": [
    "fixed_algo([stud1, stud2, stud3, stud4], [s1, s2], feasability10)[1]"
   ]
  },
  {
   "cell_type": "markdown",
   "metadata": {},
   "source": [
    "We see that **all** executions of the algorithm end up with at least one school that takes no student. "
   ]
  },
  {
   "cell_type": "markdown",
   "metadata": {},
   "source": [
    "### Test Instance 2:"
   ]
  },
  {
   "cell_type": "code",
   "execution_count": 308,
   "metadata": {},
   "outputs": [],
   "source": [
    "def analyse10_2(n, rand_inst):\n",
    "    P = fixed_algo(rand_inst[1], rand_inst[0], feasability10)[1]\n",
    "    for elt in P:\n",
    "        if elt == len(rand_inst[1]) + 1:\n",
    "            return True\n",
    "    return False"
   ]
  },
  {
   "cell_type": "code",
   "execution_count": 310,
   "metadata": {
    "scrolled": true
   },
   "outputs": [],
   "source": [
    "def printAnalyse10_2(n):\n",
    "    N = 200\n",
    "\n",
    "    cpt = 0\n",
    "\n",
    "    for _ in range(N):\n",
    "        rand_inst = rand_instance2(n)\n",
    "        cpt += analyse10_2(n, rand_inst)\n",
    "    print(\"n = \", n, \"frac = \", cpt / N)"
   ]
  },
  {
   "cell_type": "code",
   "execution_count": 311,
   "metadata": {
    "scrolled": false
   },
   "outputs": [
    {
     "name": "stdout",
     "output_type": "stream",
     "text": [
      "n =  1000 frac =  1.0\n",
      "n =  2000 frac =  1.0\n",
      "n =  3000 frac =  1.0\n"
     ]
    }
   ],
   "source": [
    "printAnalyse10_2(1000)\n",
    "printAnalyse10_2(2000)\n",
    "printAnalyse10_2(3000)"
   ]
  },
  {
   "cell_type": "markdown",
   "metadata": {},
   "source": [
    "We see that **all** executions of the algorithm end up with at least one school that takes no student. "
   ]
  },
  {
   "cell_type": "markdown",
   "metadata": {},
   "source": [
    "### Test Instance 3:"
   ]
  },
  {
   "cell_type": "code",
   "execution_count": 312,
   "metadata": {},
   "outputs": [],
   "source": [
    "def analyse10_3(n, rand_inst):\n",
    "    P = fixed_algo(rand_inst[1], rand_inst[0], feasability10)[1]\n",
    "    for elt in P:\n",
    "        if elt == len(rand_inst[1]) + 1:\n",
    "            return True\n",
    "    return False"
   ]
  },
  {
   "cell_type": "code",
   "execution_count": 314,
   "metadata": {
    "scrolled": true
   },
   "outputs": [],
   "source": [
    "def printAnalyse10_3(n):\n",
    "    N = 200\n",
    "\n",
    "    cpt = 0\n",
    "\n",
    "    for _ in range(N):\n",
    "        rand_inst = rand_instance2(n)\n",
    "        cpt += analyse10_2(n, rand_inst)\n",
    "    print(\"n = \", n, \"frac = \", cpt / N)"
   ]
  },
  {
   "cell_type": "code",
   "execution_count": 315,
   "metadata": {},
   "outputs": [
    {
     "name": "stdout",
     "output_type": "stream",
     "text": [
      "n =  1000 frac =  1.0\n"
     ]
    },
    {
     "ename": "KeyboardInterrupt",
     "evalue": "",
     "output_type": "error",
     "traceback": [
      "\u001b[1;31m---------------------------------------------------------------------------\u001b[0m",
      "\u001b[1;31mKeyboardInterrupt\u001b[0m                         Traceback (most recent call last)",
      "\u001b[1;32m<ipython-input-315-db2c44b9f8ca>\u001b[0m in \u001b[0;36m<module>\u001b[1;34m\u001b[0m\n\u001b[0;32m      1\u001b[0m \u001b[0mprintAnalyse10_3\u001b[0m\u001b[1;33m(\u001b[0m\u001b[1;36m1000\u001b[0m\u001b[1;33m)\u001b[0m\u001b[1;33m\u001b[0m\u001b[1;33m\u001b[0m\u001b[0m\n\u001b[1;32m----> 2\u001b[1;33m \u001b[0mprintAnalyse10_3\u001b[0m\u001b[1;33m(\u001b[0m\u001b[1;36m2000\u001b[0m\u001b[1;33m)\u001b[0m\u001b[1;33m\u001b[0m\u001b[1;33m\u001b[0m\u001b[0m\n\u001b[0m\u001b[0;32m      3\u001b[0m \u001b[0mprintAnalyse10_3\u001b[0m\u001b[1;33m(\u001b[0m\u001b[1;36m3000\u001b[0m\u001b[1;33m)\u001b[0m\u001b[1;33m\u001b[0m\u001b[1;33m\u001b[0m\u001b[0m\n",
      "\u001b[1;32m<ipython-input-314-46f163654b5d>\u001b[0m in \u001b[0;36mprintAnalyse10_3\u001b[1;34m(n)\u001b[0m\n\u001b[0;32m      6\u001b[0m     \u001b[1;32mfor\u001b[0m \u001b[0m_\u001b[0m \u001b[1;32min\u001b[0m \u001b[0mrange\u001b[0m\u001b[1;33m(\u001b[0m\u001b[0mN\u001b[0m\u001b[1;33m)\u001b[0m\u001b[1;33m:\u001b[0m\u001b[1;33m\u001b[0m\u001b[1;33m\u001b[0m\u001b[0m\n\u001b[0;32m      7\u001b[0m         \u001b[0mrand_inst\u001b[0m \u001b[1;33m=\u001b[0m \u001b[0mrand_instance2\u001b[0m\u001b[1;33m(\u001b[0m\u001b[0mn\u001b[0m\u001b[1;33m)\u001b[0m\u001b[1;33m\u001b[0m\u001b[1;33m\u001b[0m\u001b[0m\n\u001b[1;32m----> 8\u001b[1;33m         \u001b[0mcpt\u001b[0m \u001b[1;33m+=\u001b[0m \u001b[0manalyse10_2\u001b[0m\u001b[1;33m(\u001b[0m\u001b[0mn\u001b[0m\u001b[1;33m,\u001b[0m \u001b[0mrand_inst\u001b[0m\u001b[1;33m)\u001b[0m\u001b[1;33m\u001b[0m\u001b[1;33m\u001b[0m\u001b[0m\n\u001b[0m\u001b[0;32m      9\u001b[0m     \u001b[0mprint\u001b[0m\u001b[1;33m(\u001b[0m\u001b[1;34m\"n = \"\u001b[0m\u001b[1;33m,\u001b[0m \u001b[0mn\u001b[0m\u001b[1;33m,\u001b[0m \u001b[1;34m\"frac = \"\u001b[0m\u001b[1;33m,\u001b[0m \u001b[0mcpt\u001b[0m \u001b[1;33m/\u001b[0m \u001b[0mN\u001b[0m\u001b[1;33m)\u001b[0m\u001b[1;33m\u001b[0m\u001b[1;33m\u001b[0m\u001b[0m\n",
      "\u001b[1;32m<ipython-input-308-266c6595fc75>\u001b[0m in \u001b[0;36manalyse10_2\u001b[1;34m(n, rand_inst)\u001b[0m\n\u001b[0;32m      1\u001b[0m \u001b[1;32mdef\u001b[0m \u001b[0manalyse10_2\u001b[0m\u001b[1;33m(\u001b[0m\u001b[0mn\u001b[0m\u001b[1;33m,\u001b[0m \u001b[0mrand_inst\u001b[0m\u001b[1;33m)\u001b[0m\u001b[1;33m:\u001b[0m\u001b[1;33m\u001b[0m\u001b[1;33m\u001b[0m\u001b[0m\n\u001b[1;32m----> 2\u001b[1;33m     \u001b[0mP\u001b[0m \u001b[1;33m=\u001b[0m \u001b[0mfixed_algo\u001b[0m\u001b[1;33m(\u001b[0m\u001b[0mrand_inst\u001b[0m\u001b[1;33m[\u001b[0m\u001b[1;36m1\u001b[0m\u001b[1;33m]\u001b[0m\u001b[1;33m,\u001b[0m \u001b[0mrand_inst\u001b[0m\u001b[1;33m[\u001b[0m\u001b[1;36m0\u001b[0m\u001b[1;33m]\u001b[0m\u001b[1;33m,\u001b[0m \u001b[0mfeasability10\u001b[0m\u001b[1;33m)\u001b[0m\u001b[1;33m[\u001b[0m\u001b[1;36m1\u001b[0m\u001b[1;33m]\u001b[0m\u001b[1;33m\u001b[0m\u001b[1;33m\u001b[0m\u001b[0m\n\u001b[0m\u001b[0;32m      3\u001b[0m     \u001b[1;32mfor\u001b[0m \u001b[0melt\u001b[0m \u001b[1;32min\u001b[0m \u001b[0mP\u001b[0m\u001b[1;33m:\u001b[0m\u001b[1;33m\u001b[0m\u001b[1;33m\u001b[0m\u001b[0m\n\u001b[0;32m      4\u001b[0m         \u001b[1;32mif\u001b[0m \u001b[0melt\u001b[0m \u001b[1;33m==\u001b[0m \u001b[0mlen\u001b[0m\u001b[1;33m(\u001b[0m\u001b[0mrand_inst\u001b[0m\u001b[1;33m[\u001b[0m\u001b[1;36m1\u001b[0m\u001b[1;33m]\u001b[0m\u001b[1;33m)\u001b[0m \u001b[1;33m+\u001b[0m \u001b[1;36m1\u001b[0m\u001b[1;33m:\u001b[0m\u001b[1;33m\u001b[0m\u001b[1;33m\u001b[0m\u001b[0m\n\u001b[0;32m      5\u001b[0m             \u001b[1;32mreturn\u001b[0m \u001b[1;32mTrue\u001b[0m\u001b[1;33m\u001b[0m\u001b[1;33m\u001b[0m\u001b[0m\n",
      "\u001b[1;32m<ipython-input-291-3465d750303d>\u001b[0m in \u001b[0;36mfixed_algo\u001b[1;34m(studs, schools, feasability)\u001b[0m\n\u001b[0;32m     10\u001b[0m     \u001b[0mres\u001b[0m \u001b[1;33m=\u001b[0m \u001b[1;33m[\u001b[0m\u001b[1;33m[\u001b[0m\u001b[1;32mTrue\u001b[0m\u001b[1;33m,\u001b[0m \u001b[1;32mNone\u001b[0m\u001b[1;33m]\u001b[0m \u001b[1;32mfor\u001b[0m \u001b[0ms\u001b[0m \u001b[1;32min\u001b[0m \u001b[0mrange\u001b[0m\u001b[1;33m(\u001b[0m\u001b[0mlen\u001b[0m\u001b[1;33m(\u001b[0m\u001b[0mschools\u001b[0m\u001b[1;33m)\u001b[0m\u001b[1;33m)\u001b[0m\u001b[1;33m]\u001b[0m\u001b[1;33m\u001b[0m\u001b[1;33m\u001b[0m\u001b[0m\n\u001b[0;32m     11\u001b[0m     \u001b[0mP\u001b[0m \u001b[1;33m=\u001b[0m \u001b[1;33m[\u001b[0m\u001b[1;36m1\u001b[0m\u001b[1;33m]\u001b[0m \u001b[1;33m*\u001b[0m \u001b[0mlen\u001b[0m\u001b[1;33m(\u001b[0m\u001b[0mschools\u001b[0m\u001b[1;33m)\u001b[0m\u001b[1;33m\u001b[0m\u001b[1;33m\u001b[0m\u001b[0m\n\u001b[1;32m---> 12\u001b[1;33m     \u001b[1;32mwhile\u001b[0m \u001b[0mT\u001b[0m\u001b[1;33m(\u001b[0m\u001b[0mP\u001b[0m\u001b[1;33m,\u001b[0m \u001b[0mres\u001b[0m\u001b[1;33m,\u001b[0m \u001b[0mstuds\u001b[0m\u001b[1;33m,\u001b[0m \u001b[0mschools\u001b[0m\u001b[1;33m,\u001b[0m \u001b[0mtable\u001b[0m\u001b[1;33m,\u001b[0m \u001b[0mfeasability\u001b[0m\u001b[1;33m)\u001b[0m\u001b[1;33m:\u001b[0m\u001b[1;33m\u001b[0m\u001b[1;33m\u001b[0m\u001b[0m\n\u001b[0m\u001b[0;32m     13\u001b[0m         \u001b[1;32mcontinue\u001b[0m\u001b[1;33m\u001b[0m\u001b[1;33m\u001b[0m\u001b[0m\n\u001b[0;32m     14\u001b[0m     \u001b[1;32mreturn\u001b[0m \u001b[1;33m[\u001b[0m\u001b[0mres\u001b[0m\u001b[1;33m[\u001b[0m\u001b[0ms\u001b[0m\u001b[1;33m]\u001b[0m\u001b[1;33m[\u001b[0m\u001b[1;36m1\u001b[0m\u001b[1;33m]\u001b[0m \u001b[1;32mfor\u001b[0m \u001b[0ms\u001b[0m \u001b[1;32min\u001b[0m \u001b[0mrange\u001b[0m\u001b[1;33m(\u001b[0m\u001b[0mlen\u001b[0m\u001b[1;33m(\u001b[0m\u001b[0mschools\u001b[0m\u001b[1;33m)\u001b[0m\u001b[1;33m)\u001b[0m\u001b[1;33m]\u001b[0m\u001b[1;33m,\u001b[0m \u001b[0mP\u001b[0m\u001b[1;33m\u001b[0m\u001b[1;33m\u001b[0m\u001b[0m\n",
      "\u001b[1;32m<ipython-input-210-079b6fb4be68>\u001b[0m in \u001b[0;36mT\u001b[1;34m(P, res, studs, schools, table, feasability)\u001b[0m\n\u001b[0;32m      8\u001b[0m         \u001b[1;32mif\u001b[0m \u001b[0mres\u001b[0m\u001b[1;33m[\u001b[0m\u001b[0ms\u001b[0m\u001b[1;33m]\u001b[0m\u001b[1;33m[\u001b[0m\u001b[1;36m0\u001b[0m\u001b[1;33m]\u001b[0m\u001b[1;33m:\u001b[0m\u001b[1;33m\u001b[0m\u001b[1;33m\u001b[0m\u001b[0m\n\u001b[0;32m      9\u001b[0m             \u001b[1;32mif\u001b[0m \u001b[0mP\u001b[0m\u001b[1;33m[\u001b[0m\u001b[0ms\u001b[0m\u001b[1;33m]\u001b[0m \u001b[1;33m==\u001b[0m \u001b[0mI\u001b[0m \u001b[1;33m+\u001b[0m \u001b[1;36m1\u001b[0m\u001b[1;33m:\u001b[0m \u001b[1;32mcontinue\u001b[0m\u001b[1;33m\u001b[0m\u001b[1;33m\u001b[0m\u001b[0m\n\u001b[1;32m---> 10\u001b[1;33m             \u001b[0mres\u001b[0m\u001b[1;33m[\u001b[0m\u001b[0ms\u001b[0m\u001b[1;33m]\u001b[0m\u001b[1;33m[\u001b[0m\u001b[1;36m1\u001b[0m\u001b[1;33m]\u001b[0m \u001b[1;33m=\u001b[0m \u001b[0mdemand\u001b[0m\u001b[1;33m(\u001b[0m\u001b[0mstuds\u001b[0m\u001b[1;33m,\u001b[0m \u001b[0mtable\u001b[0m\u001b[1;33m,\u001b[0m \u001b[0ms\u001b[0m\u001b[1;33m,\u001b[0m \u001b[0mP\u001b[0m\u001b[1;33m)\u001b[0m\u001b[1;33m\u001b[0m\u001b[1;33m\u001b[0m\u001b[0m\n\u001b[0m\u001b[0;32m     11\u001b[0m             \u001b[1;32mif\u001b[0m \u001b[1;32mnot\u001b[0m \u001b[0mfeasability\u001b[0m\u001b[1;33m(\u001b[0m\u001b[0mschools\u001b[0m\u001b[1;33m[\u001b[0m\u001b[0ms\u001b[0m\u001b[1;33m]\u001b[0m\u001b[1;33m,\u001b[0m \u001b[0mres\u001b[0m\u001b[1;33m[\u001b[0m\u001b[0ms\u001b[0m\u001b[1;33m]\u001b[0m\u001b[1;33m[\u001b[0m\u001b[1;36m1\u001b[0m\u001b[1;33m]\u001b[0m\u001b[1;33m,\u001b[0m \u001b[0mstuds\u001b[0m\u001b[1;33m)\u001b[0m\u001b[1;33m:\u001b[0m\u001b[1;33m\u001b[0m\u001b[1;33m\u001b[0m\u001b[0m\n\u001b[0;32m     12\u001b[0m                 \u001b[0mP\u001b[0m\u001b[1;33m[\u001b[0m\u001b[0ms\u001b[0m\u001b[1;33m]\u001b[0m \u001b[1;33m+=\u001b[0m \u001b[1;36m1\u001b[0m\u001b[1;33m\u001b[0m\u001b[1;33m\u001b[0m\u001b[0m\n",
      "\u001b[1;32m<ipython-input-208-964d8627a877>\u001b[0m in \u001b[0;36mdemand\u001b[1;34m(studs, table, s, P)\u001b[0m\n\u001b[0;32m      8\u001b[0m         \u001b[1;32mif\u001b[0m \u001b[0mtable\u001b[0m\u001b[1;33m[\u001b[0m\u001b[0ms\u001b[0m\u001b[1;33m]\u001b[0m\u001b[1;33m[\u001b[0m\u001b[0mstuds\u001b[0m\u001b[1;33m[\u001b[0m\u001b[0mi\u001b[0m\u001b[1;33m]\u001b[0m\u001b[1;33m]\u001b[0m \u001b[1;33m>=\u001b[0m \u001b[0mP\u001b[0m\u001b[1;33m[\u001b[0m\u001b[0ms\u001b[0m\u001b[1;33m]\u001b[0m\u001b[1;33m:\u001b[0m\u001b[1;33m\u001b[0m\u001b[1;33m\u001b[0m\u001b[0m\n\u001b[0;32m      9\u001b[0m             \u001b[1;32mif\u001b[0m \u001b[0mstuds\u001b[0m\u001b[1;33m[\u001b[0m\u001b[0mi\u001b[0m\u001b[1;33m]\u001b[0m\u001b[1;33m.\u001b[0m\u001b[0mprefStud\u001b[0m\u001b[1;33m[\u001b[0m\u001b[0ms\u001b[0m\u001b[1;33m]\u001b[0m \u001b[1;33m<\u001b[0m \u001b[0mstuds\u001b[0m\u001b[1;33m[\u001b[0m\u001b[0mi\u001b[0m\u001b[1;33m]\u001b[0m\u001b[1;33m.\u001b[0m\u001b[0mprefStud\u001b[0m\u001b[1;33m[\u001b[0m\u001b[0mstuds\u001b[0m\u001b[1;33m[\u001b[0m\u001b[0mi\u001b[0m\u001b[1;33m]\u001b[0m\u001b[1;33m.\u001b[0m\u001b[0mschlStud\u001b[0m\u001b[1;33m]\u001b[0m\u001b[1;33m:\u001b[0m\u001b[1;33m\u001b[0m\u001b[1;33m\u001b[0m\u001b[0m\n\u001b[1;32m---> 10\u001b[1;33m                 \u001b[1;32mfor\u001b[0m \u001b[0ms_prime\u001b[0m \u001b[1;32min\u001b[0m \u001b[0mrange\u001b[0m\u001b[1;33m(\u001b[0m\u001b[0mm\u001b[0m\u001b[1;33m)\u001b[0m\u001b[1;33m:\u001b[0m\u001b[1;33m\u001b[0m\u001b[1;33m\u001b[0m\u001b[0m\n\u001b[0m\u001b[0;32m     11\u001b[0m                     \u001b[1;32mif\u001b[0m \u001b[0mtable\u001b[0m\u001b[1;33m[\u001b[0m\u001b[0ms_prime\u001b[0m\u001b[1;33m]\u001b[0m\u001b[1;33m[\u001b[0m\u001b[0mstuds\u001b[0m\u001b[1;33m[\u001b[0m\u001b[0mi\u001b[0m\u001b[1;33m]\u001b[0m\u001b[1;33m]\u001b[0m \u001b[1;33m>=\u001b[0m \u001b[0mP\u001b[0m\u001b[1;33m[\u001b[0m\u001b[0ms\u001b[0m\u001b[1;33m]\u001b[0m \u001b[1;32mand\u001b[0m \u001b[0mstuds\u001b[0m\u001b[1;33m[\u001b[0m\u001b[0mi\u001b[0m\u001b[1;33m]\u001b[0m\u001b[1;33m.\u001b[0m\u001b[0mprefStud\u001b[0m\u001b[1;33m[\u001b[0m\u001b[0ms\u001b[0m\u001b[1;33m]\u001b[0m \u001b[1;33m>\u001b[0m \u001b[0mstuds\u001b[0m\u001b[1;33m[\u001b[0m\u001b[0mi\u001b[0m\u001b[1;33m]\u001b[0m\u001b[1;33m.\u001b[0m\u001b[0mprefStud\u001b[0m\u001b[1;33m[\u001b[0m\u001b[0ms_prime\u001b[0m\u001b[1;33m]\u001b[0m\u001b[1;33m:\u001b[0m\u001b[1;33m\u001b[0m\u001b[1;33m\u001b[0m\u001b[0m\n\u001b[0;32m     12\u001b[0m                         \u001b[1;32mbreak\u001b[0m\u001b[1;33m\u001b[0m\u001b[1;33m\u001b[0m\u001b[0m\n",
      "\u001b[1;31mKeyboardInterrupt\u001b[0m: "
     ]
    }
   ],
   "source": [
    "printAnalyse10_3(1000)\n",
    "printAnalyse10_3(2000)\n",
    "printAnalyse10_3(3000)"
   ]
  },
  {
   "cell_type": "markdown",
   "metadata": {},
   "source": [
    "We see that **all** executions of the algorithm end up with at least one school that takes no student. "
   ]
  }
 ],
 "metadata": {
  "kernelspec": {
   "display_name": "Python 3",
   "language": "python",
   "name": "python3"
  },
  "language_info": {
   "codemirror_mode": {
    "name": "ipython",
    "version": 3
   },
   "file_extension": ".py",
   "mimetype": "text/x-python",
   "name": "python",
   "nbconvert_exporter": "python",
   "pygments_lexer": "ipython3",
   "version": "3.8.5"
  },
  "latex_envs": {
   "LaTeX_envs_menu_present": true,
   "autoclose": false,
   "autocomplete": true,
   "bibliofile": "biblio.bib",
   "cite_by": "apalike",
   "current_citInitial": 1,
   "eqLabelWithNumbers": true,
   "eqNumInitial": 1,
   "hotkeys": {
    "equation": "Ctrl-E",
    "itemize": "Ctrl-I"
   },
   "labels_anchors": false,
   "latex_user_defs": false,
   "report_style_numbering": false,
   "user_envs_cfg": false
  }
 },
 "nbformat": 4,
 "nbformat_minor": 4
}
