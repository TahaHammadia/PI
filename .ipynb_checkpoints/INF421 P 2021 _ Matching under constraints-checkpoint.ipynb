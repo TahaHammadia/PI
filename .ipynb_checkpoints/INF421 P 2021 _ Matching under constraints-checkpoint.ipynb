{
 "cells": [
  {
   "cell_type": "markdown",
   "metadata": {},
   "source": [
    "By : Taha Hammadia & Styve Ngamou"
   ]
  },
  {
   "cell_type": "markdown",
   "metadata": {},
   "source": [
    "For : M. Patrick Loiseau"
   ]
  },
  {
   "cell_type": "markdown",
   "metadata": {},
   "source": [
    "# Context:"
   ]
  },
  {
   "cell_type": "markdown",
   "metadata": {},
   "source": [
    "In this project, we are studying many-to-one matching problems. These problems have many applications such as allocation of daycare slots to babies or allocation of professors to schools and others. For our project, we will use the terminology of *students* and *schools*.\n",
    "\n",
    "Nowadays, the subject of ressorce allocation is more and more present in the public scene since social justice advocates ask for the inclusion of affirmative action criteria in the schools selection process. In this project, we will see how to implement some of these criteria such as quotas and the $\\frac{4}{5}$-rule. During this phase, we will try to ensure that the matching is *stable*, i.e. feasible, individually rational, fair and non-wasteful.\n",
    "\n",
    "In the last part of our work, we will see how to optimize matching *without stabilty constraint*. Indeed, we will consider that a central authority will match students to schools with a budget constraint. The cost of each student will depend on their group, which can correspond to different needs."
   ]
  },
  {
   "cell_type": "markdown",
   "metadata": {},
   "source": [
    "**Disclaimer:**\n",
    "\n",
    "In this assessment, we may use terms that are not politicaly correct. By it, we mean no political statement and we are only discussing programing aspects."
   ]
  },
  {
   "cell_type": "markdown",
   "metadata": {},
   "source": [
    "# Task 1:\n",
    "\n",
    "## Feasibility:\n",
    "\n",
    "The definition of feasibility is the same for both problems.\n",
    "\n",
    "## Fairness:\n",
    "\n",
    "The definition of fairness is the same for both problems.\n",
    "\n",
    "\n",
    "Since these two definitions coincide, it is sufficient to show that the Gale and Shapley definition of stability implies non-wastefulness and individual rationality:\n",
    "\n",
    "## Non-wastefulness:\n",
    "\n",
    "Let $\\mu$ a matching. Suppose there is $(i, s) \\in I \\times S$ such that $s_{i} \\gt _{i} \\mu_{i}$ and $|\\mu_{s}| < q_{s}$.\n",
    "\n",
    "We have: $i >_{s} \\emptyset$, therefore $\\mu$ is unstable.\n",
    "\n",
    "## Individual rationality:\n",
    "\n",
    "???"
   ]
  },
  {
   "cell_type": "markdown",
   "metadata": {},
   "source": [
    "# Task 2:"
   ]
  },
  {
   "cell_type": "markdown",
   "metadata": {},
   "source": [
    "## Discussing the implementation:\n",
    "\n",
    "Here, we simply implement the algoithm of Gale and Shapley adapted to many-to-matching problem where the ending condition must be ajusted."
   ]
  },
  {
   "cell_type": "markdown",
   "metadata": {},
   "source": [
    "## Choice of data structure:\n",
    "\n",
    "We have opted to use class structures which helped us combine data over students and schools in an efficient way.\n",
    "\n",
    "In the ```student``` class, the list prefStud helped us to have the rank of each school for the student. This choice of data structure makes the access to the ranking easier. \n",
    "\n",
    "In the ```school``` class, the list prefer containts the students ordered acording to the preference of the school. This choice of data structure makes the execution of the Gale and Shapley algorithm easier. Indeed, we only have to take the students by order of prefer.\n",
    "\n",
    "In the main function ```mate```, the result is presented into the shape of a list of lists. Each list within the great list contains the students who has integrated the corresponding school. The last list corresponds to students who do not have a school."
   ]
  },
  {
   "cell_type": "markdown",
   "metadata": {},
   "source": [
    "## Complexity:\n",
    "\n",
    "### Complexity in time:\n",
    "\n",
    "We count complexity in terms of how many times a \"school asks a student\".\n",
    "\n",
    "In the algorithm, each student is asked by a school at most once, therefore the complexity is $O(N m)$, where $N$ is the number of students and $m$ the number of schools.\n",
    "\n",
    "### Complexity in memory:\n",
    "\n",
    "For each one of the $N$ student, a list of $\\Theta(m)$ number represent the ranking of schools. For each one of the $m$ schools, a list of $N$ pointers to elements of the class ```student```.\n",
    "\n",
    "At the end, the space complexity is $\\Theta(N m)$."
   ]
  },
  {
   "cell_type": "markdown",
   "metadata": {},
   "source": [
    "# Task 3:"
   ]
  },
  {
   "cell_type": "markdown",
   "metadata": {},
   "source": [
    "## Discussing the implementation:\n",
    "\n",
    "As before, we are adapting the Gale and Shapley algorithm to our problem. The ending condition is not changed; whereas a school cannot ask a person only if the number of waiting students of their group is strictly less than the quota of the group."
   ]
  },
  {
   "cell_type": "markdown",
   "metadata": {},
   "source": [
    "## Choice of data structure:\n",
    "\n",
    "We use the same structures as before. Moreover, in order to account for group, we add an attribute group in the ```student``` class and a list in the ```school``` class that correponds to the number of people of each group."
   ]
  },
  {
   "cell_type": "markdown",
   "metadata": {},
   "source": [
    "# Task 4:"
   ]
  },
  {
   "cell_type": "markdown",
   "metadata": {},
   "source": [
    "## Test Instance 1:"
   ]
  },
  {
   "cell_type": "markdown",
   "metadata": {},
   "source": [
    "### Test Task 2:"
   ]
  },
  {
   "cell_type": "markdown",
   "metadata": {},
   "source": [
    "### Test Task 3:"
   ]
  },
  {
   "cell_type": "markdown",
   "metadata": {},
   "source": [
    "### Test Task 3:"
   ]
  },
  {
   "cell_type": "markdown",
   "metadata": {},
   "source": [
    "The fraction of people getting their first choices seems independent from the number n or their class. Nearly three fourths of students get their first choice."
   ]
  },
  {
   "cell_type": "markdown",
   "metadata": {},
   "source": [
    "## Test instance 3:"
   ]
  },
  {
   "cell_type": "markdown",
   "metadata": {},
   "source": [
    "The fraction of people getting their first choices seems independent from the number n or their class. Nearly three fourths of students get their first choice."
   ]
  },
  {
   "cell_type": "markdown",
   "metadata": {},
   "source": [
    "### Test Task 3:"
   ]
  },
  {
   "cell_type": "markdown",
   "metadata": {},
   "source": [
    "The fraction of people getting their first choices seems independent from the number n or their class. Nearly three fourths of students get their first choice."
   ]
  },
  {
   "cell_type": "markdown",
   "metadata": {},
   "source": [
    "# Task 5:"
   ]
  },
  {
   "cell_type": "markdown",
   "metadata": {},
   "source": [
    "## Discussing the implementation:\n",
    "\n",
    "The basic idea is to keep sure that we do add a person of a lacking group and do not add a person of a group in excess. For this, we use two lists ```lim_inf``` and ```lim_sup``` that keep track of groups that have reached the minimum porpotion limit or the maximum proportion limit respectively.\n",
    "\n",
    "When this is the case, we take the first adequate person in the ranking list give them the position and then move all the intermediary people by one downward. In the case where no more elements of the lacking group are to be found, we basically do not act."
   ]
  },
  {
   "cell_type": "markdown",
   "metadata": {},
   "source": [
    "## Choice of data structure:\n",
    "\n",
    "We have chosen, in respect with the structure of the class ```school```, that the list of preferences is the ranking of students from the most prefered to the least. Proportions is represented by a list. Moreover, the list ```cpt``` keeps track of the number of classified people in order to optimize the counting."
   ]
  },
  {
   "cell_type": "markdown",
   "metadata": {},
   "source": [
    "## Complexity estimation:\n",
    "\n",
    "### Time complexity:\n",
    "\n",
    "At first look, we might say that the time complexity is $O(N (n + N))$, where $n$ is the number of groups and $N$ the number of students.\n",
    "\n",
    "However, $n \\le N$, therfore the complexity is $O(N^2)$.\n",
    "\n",
    "### Space complexity:\n",
    "\n",
    "We have used 5 lists of length n or N. Therefore, the space complexity is $\\Theta(N)$."
   ]
  },
  {
   "cell_type": "markdown",
   "metadata": {},
   "source": [
    "# Task 6:"
   ]
  },
  {
   "cell_type": "markdown",
   "metadata": {},
   "source": [
    "## Test instance 2:"
   ]
  },
  {
   "cell_type": "markdown",
   "metadata": {},
   "source": [
    "#### Remark:\n",
    "\n",
    "The schools do not satistfy rigourously the 4/5-rule because there are not enough candidates."
   ]
  },
  {
   "cell_type": "markdown",
   "metadata": {},
   "source": [
    "## Test instance 3:"
   ]
  },
  {
   "cell_type": "markdown",
   "metadata": {},
   "source": [
    "#### Remark:\n",
    "\n",
    "The schools do not satistfy rigourously the 4/5-rule because there are not enough candidates."
   ]
  },
  {
   "cell_type": "markdown",
   "metadata": {},
   "source": [
    "# Task 7:"
   ]
  },
  {
   "cell_type": "markdown",
   "metadata": {},
   "source": [
    "## Discussing the implementation:\n",
    "\n",
    "Here, for memory efficiency and for avoiding useless search, we suppose that ```feasability``` is a function that returns whether a demand set is feasible for a school or not.\n",
    "\n",
    "In order to make the definition of the demand function faster, we will compute a table that yields for each pair (school $s$, student $i$) the value of $p_{s}$ such that: $i = i^{(s, p_{s})}$.\n",
    "\n",
    "Moreover, we can observe that once we find a feasible demand for a school, it will be the demand returned by the algorithm."
   ]
  },
  {
   "cell_type": "markdown",
   "metadata": {},
   "source": [
    "## Complexity estimation:\n",
    "\n",
    "### Time complexity:\n",
    "\n",
    "Let us note $\\mathcal{F}$ the worst case time complexity of the feasability function when applied to our data.\n",
    "\n",
    "Building the table is of time complexity $\\Theta(|I| |S|)$. \n",
    "\n",
    "Each execution of the function ```demand``` is of time complexity $O(|I| |S|)$. \n",
    "\n",
    "Therefore, the time complexity of one call of ```T``` is $O(|I| |S| |S| \\mathcal{F}) = O(|I| |S|^{2} \\mathcal{F})$, depending of whether or not we call ```demand```.\n",
    "\n",
    "Now, we must determine the number of times we must run ```T``` with a ```demand``` call. Since we are working with a general ```feasability``` function, we can at least say that it is $O(|I| |S|)$ times.\n",
    "\n",
    "In conclusion, we can say that in worst cases, the complexity is $O(|I|^{2} |S|^{3} \\mathcal{F})$.\n",
    "\n",
    "### Space complexity:\n",
    "\n",
    "A \"student\" has space complexity of $\\Theta(|\\mathcal{G}| + |S|)$.\n",
    "\n",
    "A \"school\" has space complexity of $\\Theta(|\\mathcal{G}| + |I|)$.\n",
    "\n",
    "The arguments of the code of complexity $\\Theta(|S| |I| + |\\mathcal{G}| |S| + |I|)$, i.e. $O(|I|^{2} + |I| |S|)$.\n",
    "\n",
    "Since the remaining elements are only $O(|I| |S|)$ pointers to the arguments, the total space complexity is $O(|I|^{2} +|I| |S|)$."
   ]
  },
  {
   "cell_type": "markdown",
   "metadata": {},
   "source": [
    "# Task 8:"
   ]
  },
  {
   "cell_type": "markdown",
   "metadata": {},
   "source": [
    "## Test Instance 1:"
   ]
  },
  {
   "cell_type": "markdown",
   "metadata": {},
   "source": [
    "We see that we get the same result as previously."
   ]
  },
  {
   "cell_type": "markdown",
   "metadata": {},
   "source": [
    "## Test Instance 2:"
   ]
  },
  {
   "cell_type": "markdown",
   "metadata": {},
   "source": [
    "We observe a sharp decrease in the number of people getting their first choice since it went from nearly $75\\%$ when we used the task $2$ implementation to roughly $25\\%$."
   ]
  },
  {
   "cell_type": "markdown",
   "metadata": {},
   "source": [
    "## Test Instance 3:"
   ]
  },
  {
   "cell_type": "markdown",
   "metadata": {},
   "source": [
    "We observe a sharp decrease in the number of people getting their first choice since it went from nearly $75\\%$ when we used the task $2$ implementation to roughly $25\\%$."
   ]
  },
  {
   "cell_type": "markdown",
   "metadata": {},
   "source": [
    "# Task 9:"
   ]
  },
  {
   "cell_type": "markdown",
   "metadata": {},
   "source": [
    "## Test Instance 1:"
   ]
  },
  {
   "cell_type": "markdown",
   "metadata": {},
   "source": [
    "We see that we get the same result as previously."
   ]
  },
  {
   "cell_type": "markdown",
   "metadata": {},
   "source": [
    "## Test Instance 2:"
   ]
  },
  {
   "cell_type": "markdown",
   "metadata": {},
   "source": [
    "We observe a sharp decrease in the number of people getting their first choice since it went from nearly $75\\%$ to roughly $25\\%$."
   ]
  },
  {
   "cell_type": "markdown",
   "metadata": {},
   "source": [
    "## Test Instance 3:"
   ]
  },
  {
   "cell_type": "markdown",
   "metadata": {},
   "source": [
    "We observe a sharp decrease in the number of people getting their first choice since it went from nearly $75\\%$ to roughly $25\\%$."
   ]
  },
  {
   "cell_type": "markdown",
   "metadata": {},
   "source": [
    "# Task 10:"
   ]
  },
  {
   "cell_type": "markdown",
   "metadata": {},
   "source": [
    "We will try to run the codes we previously run for testing the capacity constraints and the maximum quota constraint feasability condition.\n",
    "\n",
    "We suppose that the result will not be ```individually rational```. It can be understood since many schools will end up without a student."
   ]
  },
  {
   "cell_type": "markdown",
   "metadata": {},
   "source": [
    "## Test Instance 2:"
   ]
  },
  {
   "cell_type": "markdown",
   "metadata": {},
   "source": [
    "## Test Instance 3:"
   ]
  },
  {
   "cell_type": "markdown",
   "metadata": {},
   "source": [
    "# Task 11:"
   ]
  },
  {
   "cell_type": "markdown",
   "metadata": {},
   "source": [
    "Here we use an Integer Linear Programing algorithm. Since no algorithm has been proposed in the course and the implementation of the usual algorithms is complicated, we have chosen to use the library ```pulp``` of Python that implements the ILP.\n",
    "\n",
    "The problem corresponds to the following model :\n",
    "\n",
    "\\begin{center}\n",
    "Maximize c^{T} x\n",
    "\\end{center}"
   ]
  }
 ],
 "metadata": {
  "kernelspec": {
   "display_name": "Python 3",
   "language": "python",
   "name": "python3"
  },
  "language_info": {
   "codemirror_mode": {
    "name": "ipython",
    "version": 3
   },
   "file_extension": ".py",
   "mimetype": "text/x-python",
   "name": "python",
   "nbconvert_exporter": "python",
   "pygments_lexer": "ipython3",
   "version": "3.8.5"
  },
  "latex_envs": {
   "LaTeX_envs_menu_present": true,
   "autoclose": false,
   "autocomplete": true,
   "bibliofile": "biblio.bib",
   "cite_by": "apalike",
   "current_citInitial": 1,
   "eqLabelWithNumbers": true,
   "eqNumInitial": 1,
   "hotkeys": {
    "equation": "Ctrl-E",
    "itemize": "Ctrl-I"
   },
   "labels_anchors": false,
   "latex_user_defs": false,
   "report_style_numbering": false,
   "user_envs_cfg": false
  }
 },
 "nbformat": 4,
 "nbformat_minor": 4
}
