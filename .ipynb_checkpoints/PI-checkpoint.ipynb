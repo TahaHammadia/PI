{
 "cells": [
  {
   "cell_type": "markdown",
   "metadata": {},
   "source": [
    "# INF421 PI 2021: Matching under constraints"
   ]
  },
  {
   "cell_type": "markdown",
   "metadata": {},
   "source": [
    "By : Taha Hammadia et Styve Ngamou"
   ]
  },
  {
   "cell_type": "markdown",
   "metadata": {},
   "source": [
    "For : M. Patrick Loiseau"
   ]
  },
  {
   "cell_type": "markdown",
   "metadata": {},
   "source": [
    "## Task 1:\n",
    "\n",
    "### Feasibility:\n",
    "\n",
    "The definition of stability is the same for both problems.\n",
    "\n",
    "### Fairness:\n",
    "\n",
    "The definition of fairness is the same for both problems.\n",
    "\n",
    "$ $\n",
    "\n",
    "Since the two definitions coincide, it is sufficient to show that the Gale and Shapley definition of stability implies non-wastefulness and individual rationality:\n",
    "\n",
    "### Non-wastefulness:\n",
    "\n",
    "Let $\\mu$ a matching. Suppose there is $(i, s) \\in I \\times S$ such that $s_{i} \\gt _{i} \\mu_{i}$ and $|\\mu_{s}| < q_{s}$.\n",
    "\n",
    "We have: $i >_{s} \\emptyset$, therefore $\\mu$ is unstable.\n",
    "\n",
    "### Individual rationality:\n",
    "\n",
    "???"
   ]
  },
  {
   "cell_type": "markdown",
   "metadata": {},
   "source": [
    "## Task 2:"
   ]
  },
  {
   "cell_type": "markdown",
   "metadata": {},
   "source": [
    "### Discussing the implementation:\n",
    "\n",
    "Here, we simply implement the algoithm of Gale and Shapley adapted to many-to-matching problem where the ending condition must be ajusted."
   ]
  },
  {
   "cell_type": "markdown",
   "metadata": {},
   "source": [
    "### Choice of data structure:\n",
    "\n",
    "We have opted to use class structures which helped us combine data over students and schools in an efficient way.\n",
    "\n",
    "In the ```student``` class, the list prefStud helped us to have the rank of each school for the student. This choice of data structure makes the access to the ranking easier. \n",
    "\n",
    "In the ```school``` class, the list prefer containts the students ordered acording to the preference of the school. This choice of data structure makes the execution of the Gale and Shapley algorithm easier. Indeed, we only have to take the students by order of prefer.\n",
    "\n",
    "In the main function ```mate```, the result is presented into the shape of a list of lists. Each list within the great list contains the students who has integrated the corresponding school. The last list corresponds to students who do not have a school."
   ]
  },
  {
   "cell_type": "code",
   "execution_count": 16,
   "metadata": {},
   "outputs": [],
   "source": [
    "class student:\n",
    "    \"\"\"Definition of the class student\"\"\"\n",
    "    \n",
    "    def __init__(self, prefStud):\n",
    "        \"\"\"\n",
    "        prefStud is a list that associates to each school its rank for the student.\n",
    "        A case is added for including the choice of not joining any school at all.\n",
    "        \"\"\"\n",
    "        self.prefStud = prefStud\n",
    "        self.schlStud = len(prefStud) - 1\n",
    "    \n",
    "class school:\n",
    "    \"\"\"Definition of the school class\"\"\"\n",
    "    idx = 0\n",
    "    n = 0\n",
    "    def __init__(self, prefer, quota):\n",
    "        \"\"\"\n",
    "        prefer contains the students ordered according to the preference of the school.\n",
    "        \"\"\"\n",
    "        self.prefer = prefer\n",
    "        self.quota = quota"
   ]
  },
  {
   "cell_type": "code",
   "execution_count": 21,
   "metadata": {},
   "outputs": [],
   "source": [
    "def mate(schools, students):\n",
    "    N = len(students)\n",
    "    m = len(schools)\n",
    "    i = -1\n",
    "     # since the algorithm goes through the preferences of the schools in decreasing order of\n",
    "     # preference, we have a stable matching when all quotas are met.\n",
    "    while True:\n",
    "        for j in range(m):\n",
    "            if schools[j].n < schools[j].quota and schools[i].idx < N:\n",
    "                i = j\n",
    "                break\n",
    "        else:\n",
    "            break\n",
    "        while schools[i].n < schools[i].quota and schools[i].idx < N:\n",
    "            stud = schools[i].prefer[schools[i].idx]\n",
    "            if stud.prefStud[i] < stud.prefStud[stud.schlStud]:\n",
    "                if stud.schlStud < m:\n",
    "                    schools[stud.schlStud].n -= 1\n",
    "                schools[i].n += 1\n",
    "                stud.schlStud = i\n",
    "            schools[i].idx += 1\n",
    "    res = [list() for k in range(m + 1)]\n",
    "    for k in range(N):\n",
    "        res[students[k].schlStud].append(k)\n",
    "    return res"
   ]
  },
  {
   "cell_type": "code",
   "execution_count": 24,
   "metadata": {},
   "outputs": [
    {
     "name": "stdout",
     "output_type": "stream",
     "text": [
      "[[0], [1, 2], [], []]\n"
     ]
    }
   ],
   "source": [
    "# test with 3 schools and 3 students\n",
    "stud1 = student([1, 2, 3, 4])\n",
    "stud2 = student([2, 1, 4, 3])\n",
    "stud3 = student([4, 2, 1, 3])\n",
    "\n",
    "school1 = school([stud1, stud2, stud3], 2)\n",
    "school2 = school([stud1, stud2, stud3], 2)\n",
    "school3 = school([stud1, stud2, stud3], 2)\n",
    "\n",
    "print(mate([school1, school2, school3], [stud1, stud2, stud3]))"
   ]
  },
  {
   "cell_type": "markdown",
   "metadata": {},
   "source": [
    "### Complexity:\n",
    "\n",
    "We count complexity in terms of how many times a \"school asks a student\".\n",
    "\n",
    "In the algorithm, each student is asked by a school at most once, therefore the complexity is $O(N m)$, where $N$ is the number of students and $m$ the number of schools."
   ]
  },
  {
   "cell_type": "markdown",
   "metadata": {},
   "source": [
    "## Task 3:\n",
    "\n"
   ]
  }
 ],
 "metadata": {
  "kernelspec": {
   "display_name": "Python 3",
   "language": "python",
   "name": "python3"
  },
  "language_info": {
   "codemirror_mode": {
    "name": "ipython",
    "version": 3
   },
   "file_extension": ".py",
   "mimetype": "text/x-python",
   "name": "python",
   "nbconvert_exporter": "python",
   "pygments_lexer": "ipython3",
   "version": "3.8.5"
  },
  "latex_envs": {
   "LaTeX_envs_menu_present": true,
   "autoclose": false,
   "autocomplete": true,
   "bibliofile": "biblio.bib",
   "cite_by": "apalike",
   "current_citInitial": 1,
   "eqLabelWithNumbers": true,
   "eqNumInitial": 1,
   "hotkeys": {
    "equation": "Ctrl-E",
    "itemize": "Ctrl-I"
   },
   "labels_anchors": false,
   "latex_user_defs": false,
   "report_style_numbering": false,
   "user_envs_cfg": false
  }
 },
 "nbformat": 4,
 "nbformat_minor": 4
}
